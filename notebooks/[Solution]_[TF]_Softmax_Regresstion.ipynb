{
  "cells": [
    {
      "cell_type": "markdown",
      "id": "d494d476",
      "metadata": {
        "id": "d494d476"
      },
      "source": [
        "# Bài tập lập trình: Softmax Regression với TensorFlow\n",
        "\n",
        "### Hướng dẫn làm bài\n",
        "- Trong bài tập này bạn sẽ sử dụng TensorFlow 2.x để xây dựng mô hình Softmax Regression.\n",
        "- Sau khi bạn viết code của mình xong, hãy chạy dòng code đó để xem kết quả bên dưới.\n",
        "\n",
        "### [Quan trọng] Chú ý\n",
        "- **Không sử dụng hàm `input()` tại bất kỳ dòng lệnh nào**\n",
        "- **Không thay đổi dòng code return của hàm**\n",
        "\n",
        "Các bạn sẽ thực hiện `code` trong các phần hiển thị `#TODO: Lập trình tại đây` và thay thế các vị trí `None`.\n",
        "\n",
        "---\n",
        "Điểm số:\n",
        "* 10 điểm / Câu\n",
        "\n",
        "Tiêu chí chấm điểm:\n",
        "* Các bài tập sẽ được chấm dựa trên các test-case.\n",
        "* Sử dụng TensorFlow API một cách hiệu quả và đúng cách."
      ]
    },
    {
      "cell_type": "code",
      "execution_count": null,
      "id": "25788af8",
      "metadata": {
        "id": "25788af8",
        "colab": {
          "base_uri": "https://localhost:8080/"
        },
        "outputId": "cc8d9b1b-1343-4532-a694-e746062b6580"
      },
      "outputs": [
        {
          "output_type": "stream",
          "name": "stdout",
          "text": [
            "TensorFlow version: 2.19.0\n"
          ]
        }
      ],
      "source": [
        "import tensorflow as tf\n",
        "import numpy as np\n",
        "from tensorflow import keras\n",
        "from tensorflow.keras import layers, losses, metrics, optimizers\n",
        "import matplotlib.pyplot as plt\n",
        "\n",
        "print(f\"TensorFlow version: {tf.__version__}\")"
      ]
    },
    {
      "cell_type": "markdown",
      "id": "d20bb5cb",
      "metadata": {
        "id": "d20bb5cb"
      },
      "source": [
        "## 1. Tải dữ liệu MNIST"
      ]
    },
    {
      "cell_type": "code",
      "execution_count": null,
      "id": "b251f523",
      "metadata": {
        "id": "b251f523"
      },
      "outputs": [],
      "source": [
        "(X_train, Y_train), (X_val, Y_val) = tf.keras.datasets.mnist.load_data()"
      ]
    },
    {
      "cell_type": "code",
      "execution_count": null,
      "id": "9a7ad931",
      "metadata": {
        "id": "9a7ad931",
        "colab": {
          "base_uri": "https://localhost:8080/"
        },
        "outputId": "6d7a576f-ea4e-471c-ca80-26dfbdb23ba4"
      },
      "outputs": [
        {
          "output_type": "stream",
          "name": "stdout",
          "text": [
            "\n",
            "  Số lượng ảnh train: 60000\n",
            "  Chiều dài ảnh train: 28\n",
            "  Chiều cao ảnh train: 28\n",
            "  Chiều ảnh được duỗi: 784\n",
            "\n"
          ]
        }
      ],
      "source": [
        "# Số lượng nhãn\n",
        "num_classes = 10\n",
        "\n",
        "num_of_train_images, width, height = X_train.shape\n",
        "image_vector_size = width * height\n",
        "\n",
        "print(f\"\"\"\n",
        "  Số lượng ảnh train: {num_of_train_images}\n",
        "  Chiều dài ảnh train: {width}\n",
        "  Chiều cao ảnh train: {height}\n",
        "  Chiều ảnh được duỗi: {image_vector_size}\n",
        "\"\"\")"
      ]
    },
    {
      "cell_type": "markdown",
      "id": "4ebd5fe6",
      "metadata": {
        "id": "4ebd5fe6"
      },
      "source": [
        "## 2. Tiền xử lý dữ liệu với TensorFlow"
      ]
    },
    {
      "cell_type": "markdown",
      "id": "efa7d4dc",
      "metadata": {
        "id": "efa7d4dc"
      },
      "source": [
        "### 2.1. Chuẩn hóa và reshape dữ liệu"
      ]
    },
    {
      "cell_type": "markdown",
      "id": "e1e98f29",
      "metadata": {
        "id": "e1e98f29"
      },
      "source": [
        "```TODO 1:``` Preprocessing dữ liệu với TensorFlow"
      ]
    },
    {
      "cell_type": "code",
      "execution_count": null,
      "id": "824718bf",
      "metadata": {
        "id": "824718bf"
      },
      "outputs": [],
      "source": [
        "def preprocess_data(X, Y):\n",
        "  \"\"\"\n",
        "  Tiền xử lý dữ liệu: reshape và chuẩn hóa\n",
        "  Đầu vào:\n",
        "    X: numpy array, shape (batch_size, 28, 28)\n",
        "    Y: numpy array, shape (batch_size,)\n",
        "  Đầu ra:\n",
        "    X_processed: tf.Tensor, shape (batch_size, 784), giá trị từ 0-1\n",
        "    Y_processed: tf.Tensor, shape (batch_size, 10), one-hot encoded\n",
        "  \"\"\"\n",
        "  # TODO: Lập trình tại đây\n",
        "\n",
        "  # Chuyển đổi sang tensor và chuẩn hóa\n",
        "  # Reshape về (batch_size, 784) và chia cho 255.0\n",
        "  X_processed = tf.convert_to_tensor(X, dtype=tf.float32) / 255.0\n",
        "  X_processed = tf.reshape(X_processed, [X.shape[0], -1])\n",
        "\n",
        "  # Chuyển đổi nhãn sang one-hot encoding\n",
        "  Y_processed = tf.one_hot(Y, 10)\n",
        "  Y_processed = tf.convert_to_tensor(Y_processed, dtype=tf.float32)\n",
        "\n",
        "  return X_processed, Y_processed"
      ]
    },
    {
      "cell_type": "code",
      "execution_count": null,
      "id": "2577bcae",
      "metadata": {
        "id": "2577bcae",
        "colab": {
          "base_uri": "https://localhost:8080/"
        },
        "outputId": "84f6f858-96af-4ec9-fc59-d30c437cb417"
      },
      "outputs": [
        {
          "output_type": "stream",
          "name": "stdout",
          "text": [
            "X_train shape: (100, 784)\n",
            "Y_train shape: (100, 10)\n",
            "X values range: [0.0, 1.0]\n",
            "Y one-hot sum: 1.0\n"
          ]
        }
      ],
      "source": [
        "# Test code\n",
        "try:\n",
        "  X_train_processed, Y_train_processed = preprocess_data(X_train[:100], Y_train[:100])\n",
        "  X_val_processed, Y_val_processed = preprocess_data(X_val[:100], Y_val[:100])\n",
        "\n",
        "  print(f\"X_train shape: {X_train_processed.shape}\")\n",
        "  print(f\"Y_train shape: {Y_train_processed.shape}\")\n",
        "  print(f\"X values range: [{tf.reduce_min(X_train_processed):.1f}, {tf.reduce_max(X_train_processed):.1f}]\")\n",
        "  print(f\"Y one-hot sum: {tf.reduce_sum(Y_train_processed[0]):.1f}\")\n",
        "except Exception as e:\n",
        "  print(f\"Lỗi thực thi: {e}\")"
      ]
    },
    {
      "cell_type": "markdown",
      "id": "dad033f0",
      "metadata": {
        "id": "dad033f0"
      },
      "source": [
        "**Kết quả mong đợi:**\n",
        "```\n",
        "X_train shape: (100, 784)\n",
        "Y_train shape: (100, 10)\n",
        "X values range: [0.0, 1.0]\n",
        "Y one-hot sum: 1.0\n",
        "```"
      ]
    },
    {
      "cell_type": "markdown",
      "id": "cf2878c5",
      "metadata": {
        "id": "cf2878c5"
      },
      "source": [
        "```TODO 2:``` Tiến hành preprocessing toàn bộ dữ liệu"
      ]
    },
    {
      "cell_type": "code",
      "execution_count": null,
      "id": "d71d4f12",
      "metadata": {
        "id": "d71d4f12",
        "colab": {
          "base_uri": "https://localhost:8080/"
        },
        "outputId": "01e1f0be-3396-4c30-da87-f425e453d32a"
      },
      "outputs": [
        {
          "output_type": "stream",
          "name": "stdout",
          "text": [
            "Training data shape: (60000, 784)\n",
            "Validation data shape: (10000, 784)\n"
          ]
        }
      ],
      "source": [
        "try:\n",
        "  # TODO: Lập trình tại đây\n",
        "  X_train_processed, Y_train_processed = preprocess_data(X_train, Y_train)  # Preprocessing train set\n",
        "  X_val_processed, Y_val_processed = preprocess_data(X_val, Y_val)      # Preprocessing validation set\n",
        "\n",
        "  print(f\"Training data shape: {X_train_processed.shape}\")\n",
        "  print(f\"Validation data shape: {X_val_processed.shape}\")\n",
        "except Exception as e:\n",
        "  print(f\"Lỗi thực thi: {e}\")"
      ]
    },
    {
      "cell_type": "markdown",
      "id": "c1ac588d",
      "metadata": {
        "id": "c1ac588d"
      },
      "source": [
        "## 3. Xây dựng mô hình Softmax Regression với TensorFlow"
      ]
    },
    {
      "cell_type": "markdown",
      "id": "62d5e189",
      "metadata": {
        "id": "62d5e189"
      },
      "source": [
        "### 3.1. Tạo mô hình sử dụng Keras Sequential API"
      ]
    },
    {
      "cell_type": "markdown",
      "id": "53424608",
      "metadata": {
        "id": "53424608"
      },
      "source": [
        "```TODO 3:``` Xây dựng Softmax Regression model"
      ]
    },
    {
      "cell_type": "code",
      "execution_count": null,
      "id": "1380b28e",
      "metadata": {
        "id": "1380b28e"
      },
      "outputs": [],
      "source": [
        "def create_softmax_model(input_size, num_classes):\n",
        "  \"\"\"\n",
        "  Tạo mô hình Softmax Regression\n",
        "  Đầu vào:\n",
        "    input_size: int, kích thước input (784)\n",
        "    num_classes: int, số lượng classes (10)\n",
        "  Đầu ra:\n",
        "    model: tf.keras.Model\n",
        "  \"\"\"\n",
        "  # TODO: Lập trình tại đây\n",
        "  # Tạo Sequential model với 1 Dense layer có activation='softmax'\n",
        "  model = keras.Sequential([\n",
        "      layers.InputLayer(input_shape=(input_size,)),\n",
        "      layers.Dense(num_classes),\n",
        "      layers.Activation('softmax')\n",
        "  ])\n",
        "\n",
        "  return model"
      ]
    },
    {
      "cell_type": "code",
      "execution_count": null,
      "id": "82932c05",
      "metadata": {
        "id": "82932c05",
        "colab": {
          "base_uri": "https://localhost:8080/",
          "height": 317
        },
        "outputId": "e2436372-1ed6-477d-a5b1-c9e4542302fb"
      },
      "outputs": [
        {
          "output_type": "stream",
          "name": "stdout",
          "text": [
            "Model architecture:\n"
          ]
        },
        {
          "output_type": "stream",
          "name": "stderr",
          "text": [
            "/usr/local/lib/python3.12/dist-packages/keras/src/layers/core/input_layer.py:27: UserWarning: Argument `input_shape` is deprecated. Use `shape` instead.\n",
            "  warnings.warn(\n"
          ]
        },
        {
          "output_type": "display_data",
          "data": {
            "text/plain": [
              "\u001b[1mModel: \"sequential_9\"\u001b[0m\n"
            ],
            "text/html": [
              "<pre style=\"white-space:pre;overflow-x:auto;line-height:normal;font-family:Menlo,'DejaVu Sans Mono',consolas,'Courier New',monospace\"><span style=\"font-weight: bold\">Model: \"sequential_9\"</span>\n",
              "</pre>\n"
            ]
          },
          "metadata": {}
        },
        {
          "output_type": "display_data",
          "data": {
            "text/plain": [
              "┏━━━━━━━━━━━━━━━━━━━━━━━━━━━━━━━━━┳━━━━━━━━━━━━━━━━━━━━━━━━┳━━━━━━━━━━━━━━━┓\n",
              "┃\u001b[1m \u001b[0m\u001b[1mLayer (type)                   \u001b[0m\u001b[1m \u001b[0m┃\u001b[1m \u001b[0m\u001b[1mOutput Shape          \u001b[0m\u001b[1m \u001b[0m┃\u001b[1m \u001b[0m\u001b[1m      Param #\u001b[0m\u001b[1m \u001b[0m┃\n",
              "┡━━━━━━━━━━━━━━━━━━━━━━━━━━━━━━━━━╇━━━━━━━━━━━━━━━━━━━━━━━━╇━━━━━━━━━━━━━━━┩\n",
              "│ dense_9 (\u001b[38;5;33mDense\u001b[0m)                 │ (\u001b[38;5;45mNone\u001b[0m, \u001b[38;5;34m10\u001b[0m)             │         \u001b[38;5;34m7,850\u001b[0m │\n",
              "├─────────────────────────────────┼────────────────────────┼───────────────┤\n",
              "│ activation_6 (\u001b[38;5;33mActivation\u001b[0m)       │ (\u001b[38;5;45mNone\u001b[0m, \u001b[38;5;34m10\u001b[0m)             │             \u001b[38;5;34m0\u001b[0m │\n",
              "└─────────────────────────────────┴────────────────────────┴───────────────┘\n"
            ],
            "text/html": [
              "<pre style=\"white-space:pre;overflow-x:auto;line-height:normal;font-family:Menlo,'DejaVu Sans Mono',consolas,'Courier New',monospace\">┏━━━━━━━━━━━━━━━━━━━━━━━━━━━━━━━━━┳━━━━━━━━━━━━━━━━━━━━━━━━┳━━━━━━━━━━━━━━━┓\n",
              "┃<span style=\"font-weight: bold\"> Layer (type)                    </span>┃<span style=\"font-weight: bold\"> Output Shape           </span>┃<span style=\"font-weight: bold\">       Param # </span>┃\n",
              "┡━━━━━━━━━━━━━━━━━━━━━━━━━━━━━━━━━╇━━━━━━━━━━━━━━━━━━━━━━━━╇━━━━━━━━━━━━━━━┩\n",
              "│ dense_9 (<span style=\"color: #0087ff; text-decoration-color: #0087ff\">Dense</span>)                 │ (<span style=\"color: #00d7ff; text-decoration-color: #00d7ff\">None</span>, <span style=\"color: #00af00; text-decoration-color: #00af00\">10</span>)             │         <span style=\"color: #00af00; text-decoration-color: #00af00\">7,850</span> │\n",
              "├─────────────────────────────────┼────────────────────────┼───────────────┤\n",
              "│ activation_6 (<span style=\"color: #0087ff; text-decoration-color: #0087ff\">Activation</span>)       │ (<span style=\"color: #00d7ff; text-decoration-color: #00d7ff\">None</span>, <span style=\"color: #00af00; text-decoration-color: #00af00\">10</span>)             │             <span style=\"color: #00af00; text-decoration-color: #00af00\">0</span> │\n",
              "└─────────────────────────────────┴────────────────────────┴───────────────┘\n",
              "</pre>\n"
            ]
          },
          "metadata": {}
        },
        {
          "output_type": "display_data",
          "data": {
            "text/plain": [
              "\u001b[1m Total params: \u001b[0m\u001b[38;5;34m7,850\u001b[0m (30.66 KB)\n"
            ],
            "text/html": [
              "<pre style=\"white-space:pre;overflow-x:auto;line-height:normal;font-family:Menlo,'DejaVu Sans Mono',consolas,'Courier New',monospace\"><span style=\"font-weight: bold\"> Total params: </span><span style=\"color: #00af00; text-decoration-color: #00af00\">7,850</span> (30.66 KB)\n",
              "</pre>\n"
            ]
          },
          "metadata": {}
        },
        {
          "output_type": "display_data",
          "data": {
            "text/plain": [
              "\u001b[1m Trainable params: \u001b[0m\u001b[38;5;34m7,850\u001b[0m (30.66 KB)\n"
            ],
            "text/html": [
              "<pre style=\"white-space:pre;overflow-x:auto;line-height:normal;font-family:Menlo,'DejaVu Sans Mono',consolas,'Courier New',monospace\"><span style=\"font-weight: bold\"> Trainable params: </span><span style=\"color: #00af00; text-decoration-color: #00af00\">7,850</span> (30.66 KB)\n",
              "</pre>\n"
            ]
          },
          "metadata": {}
        },
        {
          "output_type": "display_data",
          "data": {
            "text/plain": [
              "\u001b[1m Non-trainable params: \u001b[0m\u001b[38;5;34m0\u001b[0m (0.00 B)\n"
            ],
            "text/html": [
              "<pre style=\"white-space:pre;overflow-x:auto;line-height:normal;font-family:Menlo,'DejaVu Sans Mono',consolas,'Courier New',monospace\"><span style=\"font-weight: bold\"> Non-trainable params: </span><span style=\"color: #00af00; text-decoration-color: #00af00\">0</span> (0.00 B)\n",
              "</pre>\n"
            ]
          },
          "metadata": {}
        },
        {
          "output_type": "stream",
          "name": "stdout",
          "text": [
            "\n",
            "Test output shape: (5, 10)\n",
            "Output sum (should be ~1.0): 1.000\n"
          ]
        }
      ],
      "source": [
        "# Test code\n",
        "try:\n",
        "  model = create_softmax_model(784, 10)\n",
        "  print(\"Model architecture:\")\n",
        "  model.summary()\n",
        "\n",
        "  # Test với 1 batch nhỏ\n",
        "  test_input = tf.random.normal((5, 784))\n",
        "  test_output = model(test_input)\n",
        "  print(f\"\\nTest output shape: {test_output.shape}\")\n",
        "  print(f\"Output sum (should be ~1.0): {tf.reduce_sum(test_output[0]):.3f}\")\n",
        "\n",
        "except Exception as e:\n",
        "  print(f\"Lỗi thực thi: {e}\")"
      ]
    },
    {
      "cell_type": "markdown",
      "id": "f9da1738",
      "metadata": {
        "id": "f9da1738"
      },
      "source": [
        "### 3.2. Compile mô hình"
      ]
    },
    {
      "cell_type": "markdown",
      "id": "735efd0d",
      "metadata": {
        "id": "735efd0d"
      },
      "source": [
        "```TODO 4:``` Compile mô hình với optimizer, loss và metrics phù hợp"
      ]
    },
    {
      "cell_type": "code",
      "execution_count": null,
      "id": "e8a1407f",
      "metadata": {
        "id": "e8a1407f"
      },
      "outputs": [],
      "source": [
        "def compile_model(model, learning_rate=0.01):\n",
        "  \"\"\"\n",
        "  Compile mô hình với optimizer, loss, và metrics\n",
        "  Đầu vào:\n",
        "    model: tf.keras.Model\n",
        "    learning_rate: float, tốc độ học\n",
        "  \"\"\"\n",
        "  # TODO: Lập trình tại đây\n",
        "\n",
        "  # Compile model với:\n",
        "  # - optimizer: SGD với learning_rate\n",
        "  # - loss: categorical_crossentropy\n",
        "  # - metrics: accuracy\n",
        "  model.compile(\n",
        "    optimizer=optimizers.SGD(learning_rate=learning_rate),\n",
        "    loss='categorical_crossentropy',\n",
        "    metrics=['accuracy']\n",
        "  )\n",
        "\n",
        "  return model"
      ]
    },
    {
      "cell_type": "code",
      "execution_count": null,
      "id": "2edea7a1",
      "metadata": {
        "id": "2edea7a1",
        "colab": {
          "base_uri": "https://localhost:8080/"
        },
        "outputId": "da204371-5e25-4122-82f4-b54f3f165031"
      },
      "outputs": [
        {
          "output_type": "stream",
          "name": "stdout",
          "text": [
            "Model compiled successfully!\n",
            "Optimizer: SGD\n",
            "Loss function: categorical_crossentropy\n",
            "Metrics: ['loss', 'compile_metrics']\n"
          ]
        }
      ],
      "source": [
        "# Test code\n",
        "try:\n",
        "  model = create_softmax_model(784, 10)\n",
        "  model = compile_model(model, learning_rate=0.01)\n",
        "\n",
        "  print(\"Model compiled successfully!\")\n",
        "  print(f\"Optimizer: {type(model.optimizer).__name__}\")\n",
        "  print(f\"Loss function: {model.loss}\")\n",
        "  print(f\"Metrics: {[m.name for m in model.metrics]}\")\n",
        "\n",
        "except Exception as e:\n",
        "  print(f\"Lỗi thực thi: {e}\")"
      ]
    },
    {
      "cell_type": "markdown",
      "id": "a8aa307d",
      "metadata": {
        "id": "a8aa307d"
      },
      "source": [
        "### 3.3. Training với validation"
      ]
    },
    {
      "cell_type": "markdown",
      "id": "690c8a90",
      "metadata": {
        "id": "690c8a90"
      },
      "source": [
        "```TODO 5:``` Thiết lập training loop"
      ]
    },
    {
      "cell_type": "code",
      "execution_count": null,
      "id": "2dc099bb",
      "metadata": {
        "id": "2dc099bb"
      },
      "outputs": [],
      "source": [
        "def train_model(model, X_train, Y_train, X_val, Y_val, epochs=30, batch_size=32):\n",
        "  \"\"\"\n",
        "  Train mô hình\n",
        "  Đầu vào:\n",
        "    model: tf.keras.Model\n",
        "    X_train, Y_train: training data\n",
        "    X_val, Y_val: validation data\n",
        "    epochs: số epoch\n",
        "    batch_size: kích thước batch\n",
        "  Đầu ra:\n",
        "    history: training history\n",
        "  \"\"\"\n",
        "  # TODO: Lập trình tại đây\n",
        "\n",
        "  # Sử dụng model.fit() để train\n",
        "  history = model.fit(\n",
        "      X_train, Y_train,\n",
        "      validation_data=(X_val,Y_val),\n",
        "      batch_size=batch_size,\n",
        "      epochs=epochs,\n",
        "      verbose=1\n",
        "  )\n",
        "\n",
        "  return history"
      ]
    },
    {
      "cell_type": "markdown",
      "id": "3884bce9",
      "metadata": {
        "id": "3884bce9"
      },
      "source": [
        "### 3.4. Thực hiện training"
      ]
    },
    {
      "cell_type": "code",
      "execution_count": null,
      "id": "7c66e76f",
      "metadata": {
        "id": "7c66e76f",
        "colab": {
          "base_uri": "https://localhost:8080/"
        },
        "outputId": "74559c6e-d48f-415c-e444-c0d6ed025ef5"
      },
      "outputs": [
        {
          "output_type": "stream",
          "name": "stdout",
          "text": [
            "Epoch 1/10\n",
            "\u001b[1m469/469\u001b[0m \u001b[32m━━━━━━━━━━━━━━━━━━━━\u001b[0m\u001b[37m\u001b[0m \u001b[1m3s\u001b[0m 4ms/step - accuracy: 0.5475 - loss: 1.6298 - val_accuracy: 0.8373 - val_loss: 0.8060\n",
            "Epoch 2/10\n",
            "\u001b[1m469/469\u001b[0m \u001b[32m━━━━━━━━━━━━━━━━━━━━\u001b[0m\u001b[37m\u001b[0m \u001b[1m1s\u001b[0m 2ms/step - accuracy: 0.8314 - loss: 0.7701 - val_accuracy: 0.8645 - val_loss: 0.6058\n",
            "Epoch 3/10\n",
            "\u001b[1m469/469\u001b[0m \u001b[32m━━━━━━━━━━━━━━━━━━━━\u001b[0m\u001b[37m\u001b[0m \u001b[1m1s\u001b[0m 3ms/step - accuracy: 0.8594 - loss: 0.6028 - val_accuracy: 0.8744 - val_loss: 0.5249\n",
            "Epoch 4/10\n",
            "\u001b[1m469/469\u001b[0m \u001b[32m━━━━━━━━━━━━━━━━━━━━\u001b[0m\u001b[37m\u001b[0m \u001b[1m1s\u001b[0m 2ms/step - accuracy: 0.8709 - loss: 0.5305 - val_accuracy: 0.8817 - val_loss: 0.4797\n",
            "Epoch 5/10\n",
            "\u001b[1m469/469\u001b[0m \u001b[32m━━━━━━━━━━━━━━━━━━━━\u001b[0m\u001b[37m\u001b[0m \u001b[1m2s\u001b[0m 4ms/step - accuracy: 0.8752 - loss: 0.4924 - val_accuracy: 0.8872 - val_loss: 0.4504\n",
            "Epoch 6/10\n",
            "\u001b[1m469/469\u001b[0m \u001b[32m━━━━━━━━━━━━━━━━━━━━\u001b[0m\u001b[37m\u001b[0m \u001b[1m1s\u001b[0m 3ms/step - accuracy: 0.8796 - loss: 0.4672 - val_accuracy: 0.8907 - val_loss: 0.4289\n",
            "Epoch 7/10\n",
            "\u001b[1m469/469\u001b[0m \u001b[32m━━━━━━━━━━━━━━━━━━━━\u001b[0m\u001b[37m\u001b[0m \u001b[1m2s\u001b[0m 3ms/step - accuracy: 0.8833 - loss: 0.4456 - val_accuracy: 0.8932 - val_loss: 0.4127\n",
            "Epoch 8/10\n",
            "\u001b[1m469/469\u001b[0m \u001b[32m━━━━━━━━━━━━━━━━━━━━\u001b[0m\u001b[37m\u001b[0m \u001b[1m3s\u001b[0m 3ms/step - accuracy: 0.8842 - loss: 0.4329 - val_accuracy: 0.8949 - val_loss: 0.4001\n",
            "Epoch 9/10\n",
            "\u001b[1m469/469\u001b[0m \u001b[32m━━━━━━━━━━━━━━━━━━━━\u001b[0m\u001b[37m\u001b[0m \u001b[1m2s\u001b[0m 2ms/step - accuracy: 0.8889 - loss: 0.4168 - val_accuracy: 0.8984 - val_loss: 0.3896\n",
            "Epoch 10/10\n",
            "\u001b[1m469/469\u001b[0m \u001b[32m━━━━━━━━━━━━━━━━━━━━\u001b[0m\u001b[37m\u001b[0m \u001b[1m1s\u001b[0m 2ms/step - accuracy: 0.8936 - loss: 0.4051 - val_accuracy: 0.8998 - val_loss: 0.3811\n",
            "Training completed!\n"
          ]
        }
      ],
      "source": [
        "try:\n",
        "  # Tạo và compile model\n",
        "  model = create_softmax_model(784, 10)\n",
        "  model = compile_model(model, learning_rate=0.01)\n",
        "\n",
        "  # Training\n",
        "  history = train_model(\n",
        "    model, X_train_processed, Y_train_processed,\n",
        "    X_val_processed, Y_val_processed,\n",
        "    epochs=10, batch_size=128\n",
        "  )\n",
        "\n",
        "  print(\"Training completed!\")\n",
        "\n",
        "except Exception as e:\n",
        "  print(f\"Lỗi thực thi: {e}\")"
      ]
    },
    {
      "cell_type": "markdown",
      "id": "79de2ca7",
      "metadata": {
        "id": "79de2ca7"
      },
      "source": [
        "### 3.5. Visualization và Evaluation"
      ]
    },
    {
      "cell_type": "markdown",
      "id": "d57092e8",
      "metadata": {
        "id": "d57092e8"
      },
      "source": [
        "```TODO 6:``` Vẽ đồ thị loss và accuracy"
      ]
    },
    {
      "cell_type": "code",
      "execution_count": null,
      "id": "45e6a41d",
      "metadata": {
        "id": "45e6a41d"
      },
      "outputs": [],
      "source": [
        "def plot_training_history(history):\n",
        "  \"\"\"\n",
        "  Vẽ đồ thị training history\n",
        "  Đầu vào:\n",
        "    history: keras History object\n",
        "  \"\"\"\n",
        "  # TODO: Lập trình tại đây\n",
        "\n",
        "  # Tạo subplot với 2 đồ thị: loss và accuracy\n",
        "  fig, (ax1, ax2) = plt.subplots(1, 2, figsize=(12, 4))\n",
        "\n",
        "  # Vẽ loss\n",
        "  # ax1.plot loss và val_loss\n",
        "  ax1.plot(history.history['loss'], label='Training Loss')\n",
        "  ax1.plot(history.history['val_loss'], label='Validation Loss')\n",
        "\n",
        "  # Vẽ accuracy\n",
        "  # ax2.plot accuracy và val_accuracy\n",
        "  ax2.plot(history.history['accuracy'], label='Training Accuracy')\n",
        "  ax2.plot(history.history['val_accuracy'], label='Validation Accuracy')\n",
        "\n",
        "  plt.tight_layout()\n",
        "  plt.show()"
      ]
    },
    {
      "cell_type": "code",
      "execution_count": null,
      "id": "8b3a7cdb",
      "metadata": {
        "id": "8b3a7cdb",
        "colab": {
          "base_uri": "https://localhost:8080/",
          "height": 316
        },
        "outputId": "a44353ed-882d-4d4d-97d1-a2894cb3830f"
      },
      "outputs": [
        {
          "output_type": "display_data",
          "data": {
            "text/plain": [
              "<Figure size 1200x400 with 2 Axes>"
            ],
            "image/png": "[encoded data removed]"
          },
          "metadata": {}
        }
      ],
      "source": [
        "# Test visualization\n",
        "try:\n",
        "  if 'history' in locals():\n",
        "    plot_training_history(history)\n",
        "  else:\n",
        "    print(\"Chạy training trước để có history data\")\n",
        "except Exception as e:\n",
        "  print(f\"Lỗi thực thi: {e}\")"
      ]
    },
    {
      "cell_type": "markdown",
      "id": "1a74f7b1",
      "metadata": {
        "id": "1a74f7b1"
      },
      "source": [
        "### 3.6. Evaluation và Prediction"
      ]
    },
    {
      "cell_type": "markdown",
      "id": "d4162ccb",
      "metadata": {
        "id": "d4162ccb"
      },
      "source": [
        "```TODO 7:``` Tạo hàm đánh giá và dự đoán"
      ]
    },
    {
      "cell_type": "code",
      "execution_count": null,
      "id": "722e69b6",
      "metadata": {
        "id": "722e69b6"
      },
      "outputs": [],
      "source": [
        "def evaluate_model(model, X_test, Y_test):\n",
        "  \"\"\"\n",
        "  Đánh giá mô hình\n",
        "  Đầu vào:\n",
        "    model: trained model\n",
        "    X_test, Y_test: test data\n",
        "  Đầu ra:\n",
        "    loss, accuracy: float values\n",
        "  \"\"\"\n",
        "  # TODO: Lập trình tại đây\n",
        "\n",
        "  # Sử dụng model.evaluate()\n",
        "  results = model.evaluate(X_test, Y_test, verbose=1)\n",
        "  loss, accuracy = results[0], results[1]\n",
        "\n",
        "  return loss, accuracy\n",
        "\n",
        "def predict_samples(model, X_samples, Y_true, num_samples=5):\n",
        "  \"\"\"\n",
        "  Dự đoán và hiển thị một số mẫu\n",
        "  Đầu vào:\n",
        "    model: trained model\n",
        "    X_samples: input samples (flattened)\n",
        "    Y_true: true labels (not one-hot)\n",
        "    num_samples: số mẫu cần hiển thị\n",
        "  \"\"\"\n",
        "  # TODO: Lập trình tại đây\n",
        "\n",
        "  # Dự đoán\n",
        "  predictions = model.predict(X_samples)  # model.predict()\n",
        "  predicted_classes = tf.argmax(predictions, axis=1).numpy()  # tf.argmax()\n",
        "\n",
        "  # Hiển thị kết quả\n",
        "  print(\"Prediction Results:\")\n",
        "  for i in range(min(num_samples, len(Y_true))):\n",
        "    print(f\"Sample {i}: True={Y_true[i]}, Predicted={predicted_classes[i]}, Confidence={tf.reduce_max(predictions[i]):.3f}\")"
      ]
    },
    {
      "cell_type": "code",
      "execution_count": null,
      "id": "facdf70b",
      "metadata": {
        "id": "facdf70b",
        "colab": {
          "base_uri": "https://localhost:8080/"
        },
        "outputId": "cd68c658-7b3b-4e16-e1cc-09a125459175"
      },
      "outputs": [
        {
          "output_type": "stream",
          "name": "stdout",
          "text": [
            "\u001b[1m313/313\u001b[0m \u001b[32m━━━━━━━━━━━━━━━━━━━━\u001b[0m\u001b[37m\u001b[0m \u001b[1m1s\u001b[0m 3ms/step - accuracy: 0.8849 - loss: 0.4347\n",
            "Validation Loss: 0.3811\n",
            "Validation Accuracy: 0.8998\n",
            "\u001b[1m1/1\u001b[0m \u001b[32m━━━━━━━━━━━━━━━━━━━━\u001b[0m\u001b[37m\u001b[0m \u001b[1m0s\u001b[0m 222ms/step\n",
            "Prediction Results:\n",
            "Sample 0: True=7, Predicted=7, Confidence=0.990\n",
            "Sample 1: True=2, Predicted=2, Confidence=0.754\n",
            "Sample 2: True=1, Predicted=1, Confidence=0.925\n",
            "Sample 3: True=0, Predicted=0, Confidence=0.994\n",
            "Sample 4: True=4, Predicted=4, Confidence=0.800\n"
          ]
        }
      ],
      "source": [
        "# Test evaluation\n",
        "try:\n",
        "  if 'model' in locals():\n",
        "    # Evaluate on validation set\n",
        "    val_loss, val_accuracy = evaluate_model(model, X_val_processed, Y_val_processed)\n",
        "    print(f\"Validation Loss: {val_loss:.4f}\")\n",
        "    print(f\"Validation Accuracy: {val_accuracy:.4f}\")\n",
        "\n",
        "    # Predict some samples\n",
        "    predict_samples(model, X_val_processed[:10], Y_val[:10])\n",
        "  else:\n",
        "    print(\"Train model trước khi evaluate\")\n",
        "\n",
        "except Exception as e:\n",
        "  print(f\"Lỗi thực thi: {e}\")"
      ]
    },
    {
      "cell_type": "markdown",
      "id": "91e60ee2",
      "metadata": {
        "id": "91e60ee2"
      },
      "source": [
        "### 3.7. So sánh với implementation từ scratch"
      ]
    },
    {
      "cell_type": "markdown",
      "id": "b9452508",
      "metadata": {
        "id": "b9452508"
      },
      "source": [
        "```TODO 8:``` Tạo custom training loop để hiểu rõ hơn về cách TensorFlow hoạt động"
      ]
    },
    {
      "cell_type": "code",
      "execution_count": null,
      "id": "e117d2f3",
      "metadata": {
        "id": "e117d2f3"
      },
      "outputs": [],
      "source": [
        "def custom_training_loop(model, X_train, Y_train, X_val, Y_val, epochs=30, batch_size=128):\n",
        "  \"\"\"\n",
        "  Custom training loop sử dụng GradientTape\n",
        "  Đầu vào:\n",
        "    model: tf.keras.Model (chưa compile)\n",
        "    X_train, Y_train: training data\n",
        "    X_val, Y_val: validation data\n",
        "    epochs: số epoch\n",
        "    batch_size: kích thước batch\n",
        "  \"\"\"\n",
        "  # TODO: Lập trình tại đây\n",
        "\n",
        "  # Thiết lập optimizer và loss function\n",
        "  optimizer = optimizers.SGD(learning_rate=0.001) # SGD optimizer\n",
        "  loss_fn = losses.CategoricalCrossentropy()    # CategoricalCrossentropy\n",
        "\n",
        "  # Training metrics\n",
        "  train_loss = tf.keras.metrics.Mean()\n",
        "  train_accuracy = tf.keras.metrics.CategoricalAccuracy()\n",
        "\n",
        "  # Training loop\n",
        "  for epoch in range(epochs):\n",
        "    print(f\"Epoch {epoch + 1}/{epochs}\")\n",
        "\n",
        "    # Reset metrics\n",
        "    train_loss.reset_state()\n",
        "    train_accuracy.reset_state()\n",
        "\n",
        "    # Create batches\n",
        "    dataset = tf.data.Dataset.from_tensor_slices((X_train, Y_train))\n",
        "    dataset = dataset.batch(batch_size)\n",
        "\n",
        "    # Training step\n",
        "    for batch_x, batch_y in dataset:\n",
        "      # TODO: Implement training step với GradientTape\n",
        "      with tf.GradientTape() as tape:\n",
        "        # Forward pass\n",
        "        predictions = model(batch_x, training=True)\n",
        "        # Compute loss\n",
        "        loss = loss_fn(batch_y, predictions)\n",
        "\n",
        "      # Compute gradients\n",
        "      gradients = tape.gradient(loss, model.trainable_variables)\n",
        "      # Apply gradients\n",
        "      optimizer.apply_gradients(zip(gradients, model.trainable_variables))\n",
        "\n",
        "      # Update metrics\n",
        "      train_loss.update_state(loss)\n",
        "      train_accuracy.update_state(batch_y, predictions)\n",
        "\n",
        "    # Validation\n",
        "    val_predictions = model(X_val)\n",
        "    val_loss = loss_fn(Y_val, val_predictions)\n",
        "    val_accuracy = tf.keras.metrics.categorical_accuracy(Y_val, val_predictions)\n",
        "    val_accuracy = tf.reduce_mean(val_accuracy)\n",
        "\n",
        "    print(f\"Loss: {train_loss.result():.4f}, Accuracy: {train_accuracy.result():.4f}, \"\n",
        "          f\"Val Loss: {val_loss:.4f}, Val Accuracy: {val_accuracy:.4f}\")"
      ]
    },
    {
      "cell_type": "code",
      "execution_count": null,
      "id": "c13e4e0d",
      "metadata": {
        "id": "c13e4e0d",
        "colab": {
          "base_uri": "https://localhost:8080/"
        },
        "outputId": "1982e895-d507-4994-e904-334e1a128937"
      },
      "outputs": [
        {
          "output_type": "stream",
          "name": "stderr",
          "text": [
            "/usr/local/lib/python3.12/dist-packages/keras/src/layers/core/input_layer.py:27: UserWarning: Argument `input_shape` is deprecated. Use `shape` instead.\n",
            "  warnings.warn(\n"
          ]
        },
        {
          "output_type": "stream",
          "name": "stdout",
          "text": [
            "Training với custom loop:\n",
            "Epoch 1/3\n",
            "Loss: 2.3621, Accuracy: 0.1130, Val Loss: 2.2968, Val Accuracy: 0.1260\n",
            "Epoch 2/3\n",
            "Loss: 2.2473, Accuracy: 0.1610, Val Loss: 2.2097, Val Accuracy: 0.1970\n",
            "Epoch 3/3\n",
            "Loss: 2.1544, Accuracy: 0.2448, Val Loss: 2.1346, Val Accuracy: 0.2750\n"
          ]
        }
      ],
      "source": [
        "# Test custom training loop\n",
        "try:\n",
        "  # Tạo model mới cho custom training\n",
        "  custom_model = create_softmax_model(784, 10)\n",
        "\n",
        "  # Custom training (không cần compile)\n",
        "  print(\"Training với custom loop:\")\n",
        "  custom_training_loop(\n",
        "    custom_model,\n",
        "    X_train_processed[:5000], Y_train_processed[:5000],  # Subset for faster training\n",
        "    X_val_processed[:1000], Y_val_processed[:1000],\n",
        "    epochs=3, batch_size=64\n",
        "  )\n",
        "\n",
        "except Exception as e:\n",
        "  print(f\"Lỗi thực thi: {e}\")"
      ]
    },
    {
      "cell_type": "markdown",
      "id": "7c33fe65",
      "metadata": {
        "id": "7c33fe65"
      },
      "source": [
        "### Vậy là bạn đã xây dựng thành công mô hình Softmax Regression với TensorFlow/Keras!"
      ]
    },
    {
      "cell_type": "markdown",
      "id": "4084be85",
      "metadata": {
        "id": "4084be85"
      },
      "source": [
        "**Những điều bạn đã học được:**\n",
        "1. Sử dụng TensorFlow/Keras để preprocessing dữ liệu\n",
        "2. Xây dựng mô hình Sequential với Dense layer và Softmax activation\n",
        "3. Compile mô hình với optimizer, loss function và metrics\n",
        "4. Training mô hình với validation\n",
        "5. Visualization training history\n",
        "6. Evaluation và prediction\n",
        "7. Custom training loop với GradientTape\n",
        "\n",
        "**So sánh với NumPy thuần:**\n",
        "- TensorFlow tự động tính gradient và backpropagation\n",
        "- Built-in optimizer và loss functions\n",
        "- GPU acceleration tự động\n",
        "- Dễ dàng scaling và deployment"
      ]
    }
  ],
  "metadata": {
    "language_info": {
      "name": "python"
    },
    "colab": {
      "provenance": [],
      "gpuType": "T4"
    },
    "accelerator": "GPU",
    "kernelspec": {
      "name": "python3",
      "display_name": "Python 3"
    }
  },
  "nbformat": 4,
  "nbformat_minor": 5
}