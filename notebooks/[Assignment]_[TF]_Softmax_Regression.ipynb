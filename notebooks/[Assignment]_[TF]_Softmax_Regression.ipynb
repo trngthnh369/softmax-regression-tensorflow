{
  "cells": [
    {
      "cell_type": "markdown",
      "id": "d494d476",
      "metadata": {
        "id": "DNskF-vZx2cy"
      },
      "source": [
        "# Bài tập lập trình: Softmax Regression với TensorFlow\n",
        "\n",
        "### Hướng dẫn làm bài \n",
        "- Trong bài tập này bạn sẽ sử dụng TensorFlow 2.x để xây dựng mô hình Softmax Regression.\n",
        "- Sau khi bạn viết code của mình xong, hãy chạy dòng code đó để xem kết quả bên dưới. \n",
        "\n",
        "### [Quan trọng] Chú ý\n",
        "- **Không sử dụng hàm `input()` tại bất kỳ dòng lệnh nào**\n",
        "- **Không thay đổi dòng code return của hàm**\n",
        "\n",
        "Các bạn sẽ thực hiện `code` trong các phần hiển thị `#TODO: Lập trình tại đây` và thay thế các vị trí `None`.\n",
        "\n",
        "---\n",
        "Điểm số:\n",
        "* 10 điểm / Câu\n",
        "\n",
        "Tiêu chí chấm điểm:\n",
        "* Các bài tập sẽ được chấm dựa trên các test-case.\n",
        "* Sử dụng TensorFlow API một cách hiệu quả và đúng cách."
      ]
    },
    {
      "cell_type": "code",
      "execution_count": null,
      "id": "25788af8",
      "metadata": {
        "id": "Onq15lwRRsJS"
      },
      "outputs": [],
      "source": [
        "import tensorflow as tf\n",
        "import numpy as np\n",
        "from tensorflow import keras\n",
        "from tensorflow.keras import layers, losses, metrics, optimizers\n",
        "import matplotlib.pyplot as plt\n",
        "\n",
        "print(f\"TensorFlow version: {tf.__version__}\")"
      ]
    },
    {
      "cell_type": "markdown",
      "id": "d20bb5cb",
      "metadata": {
        "id": "osy4dRRiRa1E"
      },
      "source": [
        "## 1. Tải dữ liệu MNIST"
      ]
    },
    {
      "cell_type": "code",
      "execution_count": null,
      "id": "b251f523",
      "metadata": {
        "id": "iVlUEU7pceyr"
      },
      "outputs": [],
      "source": [
        "(X_train, Y_train), (X_val, Y_val) = tf.keras.datasets.mnist.load_data()"
      ]
    },
    {
      "cell_type": "code",
      "execution_count": null,
      "id": "9a7ad931",
      "metadata": {
        "id": "vzRTUc-cuu_6"
      },
      "outputs": [],
      "source": [
        "# Số lượng nhãn \n",
        "num_classes = 10\n",
        "\n",
        "num_of_train_images, width, height = X_train.shape\n",
        "image_vector_size = width * height\n",
        "\n",
        "print(f\"\"\"\n",
        "  Số lượng ảnh train: {num_of_train_images}\n",
        "  Chiều dài ảnh train: {width}\n",
        "  Chiều cao ảnh train: {height}\n",
        "  Chiều ảnh được duỗi: {image_vector_size}\n",
        "\"\"\")"
      ]
    },
    {
      "cell_type": "markdown",
      "id": "4ebd5fe6",
      "metadata": {
        "id": "egzxTzYNRfEV"
      },
      "source": [
        "## 2. Tiền xử lý dữ liệu với TensorFlow"
      ]
    },
    {
      "cell_type": "markdown",
      "id": "efa7d4dc",
      "metadata": {
        "id": "RrERXeb4URmd"
      },
      "source": [
        "### 2.1. Chuẩn hóa và reshape dữ liệu"
      ]
    },
    {
      "cell_type": "markdown",
      "id": "e1e98f29",
      "metadata": {
        "id": "nkgFiPw8V1zF"
      },
      "source": [
        "```TODO 1:``` Preprocessing dữ liệu với TensorFlow"
      ]
    },
    {
      "cell_type": "code",
      "execution_count": null,
      "id": "824718bf",
      "metadata": {
        "id": "H5wR-w7XUlji"
      },
      "outputs": [],
      "source": [
        "def preprocess_data(X, Y):\n",
        "  \"\"\"\n",
        "  Tiền xử lý dữ liệu: reshape và chuẩn hóa\n",
        "  Đầu vào:\n",
        "    X: numpy array, shape (batch_size, 28, 28)\n",
        "    Y: numpy array, shape (batch_size,)\n",
        "  Đầu ra:\n",
        "    X_processed: tf.Tensor, shape (batch_size, 784), giá trị từ 0-1\n",
        "    Y_processed: tf.Tensor, shape (batch_size, 10), one-hot encoded\n",
        "  \"\"\"\n",
        "  # TODO: Lập trình tại đây\n",
        "  \n",
        "  # Chuyển đổi sang tensor và chuẩn hóa\n",
        "  X_processed = None  # Reshape về (batch_size, 784) và chia cho 255.0\n",
        "  \n",
        "  # Chuyển đổi nhãn sang one-hot encoding\n",
        "  Y_processed = None  # Sử dụng tf.one_hot\n",
        "  \n",
        "  return X_processed, Y_processed"
      ]
    },
    {
      "cell_type": "code",
      "execution_count": null,
      "id": "2577bcae",
      "metadata": {
        "id": "DxmaxMY7wQ2c"
      },
      "outputs": [],
      "source": [
        "# Test code\n",
        "try:\n",
        "  X_train_processed, Y_train_processed = preprocess_data(X_train[:100], Y_train[:100])\n",
        "  X_val_processed, Y_val_processed = preprocess_data(X_val[:100], Y_val[:100])\n",
        "  \n",
        "  print(f\"X_train shape: {X_train_processed.shape}\")\n",
        "  print(f\"Y_train shape: {Y_train_processed.shape}\")\n",
        "  print(f\"X values range: [{tf.reduce_min(X_train_processed):.1f}, {tf.reduce_max(X_train_processed):.1f}]\")\n",
        "  print(f\"Y one-hot sum: {tf.reduce_sum(Y_train_processed[0]):.1f}\")\n",
        "except Exception as e:\n",
        "  print(f\"Lỗi thực thi: {e}\")"
      ]
    },
    {
      "cell_type": "markdown",
      "id": "dad033f0",
      "metadata": {
        "id": "JawVnzyPwRTI"
      },
      "source": [
        "**Kết quả mong đợi:**\n",
        "```\n",
        "X_train shape: (100, 784)\n",
        "Y_train shape: (100, 10)\n",
        "X values range: [0.0, 1.0]\n",
        "Y one-hot sum: 1.0\n",
        "```"
      ]
    },
    {
      "cell_type": "markdown",
      "id": "cf2878c5",
      "metadata": {
        "id": "6Ze4p_0bV7DQ"
      },
      "source": [
        "```TODO 2:``` Tiến hành preprocessing toàn bộ dữ liệu"
      ]
    },
    {
      "cell_type": "code",
      "execution_count": null,
      "id": "d71d4f12",
      "metadata": {
        "id": "87aoLfiOeuoM"
      },
      "outputs": [],
      "source": [
        "try:\n",
        "  # TODO: Lập trình tại đây\n",
        "  X_train_processed, Y_train_processed = None, None  # Preprocessing train set\n",
        "  X_val_processed, Y_val_processed = None, None      # Preprocessing validation set\n",
        "  \n",
        "  print(f\"Training data shape: {X_train_processed.shape}\")\n",
        "  print(f\"Validation data shape: {X_val_processed.shape}\")\n",
        "except Exception as e:\n",
        "  print(f\"Lỗi thực thi: {e}\")"
      ]
    },
    {
      "cell_type": "markdown",
      "id": "c1ac588d",
      "metadata": {
        "id": "C1moGHZqatpv"
      },
      "source": [
        "## 3. Xây dựng mô hình Softmax Regression với TensorFlow"
      ]
    },
    {
      "cell_type": "markdown",
      "id": "62d5e189",
      "metadata": {
        "id": "1yTFwMm2vwp9"
      },
      "source": [
        "### 3.1. Tạo mô hình sử dụng Keras Sequential API"
      ]
    },
    {
      "cell_type": "markdown",
      "id": "53424608",
      "metadata": {
        "id": "AOViA-UBCoIE"
      },
      "source": [
        "```TODO 3:``` Xây dựng Softmax Regression model"
      ]
    },
    {
      "cell_type": "code",
      "execution_count": null,
      "id": "1380b28e",
      "metadata": {
        "id": "rhCfaD_ia6zh"
      },
      "outputs": [],
      "source": [
        "def create_softmax_model(input_size, num_classes):\n",
        "  \"\"\"\n",
        "  Tạo mô hình Softmax Regression\n",
        "  Đầu vào:\n",
        "    input_size: int, kích thước input (784)\n",
        "    num_classes: int, số lượng classes (10)\n",
        "  Đầu ra:\n",
        "    model: tf.keras.Model\n",
        "  \"\"\"\n",
        "  # TODO: Lập trình tại đây\n",
        "  \n",
        "  model = None  # Tạo Sequential model với 1 Dense layer có activation='softmax'\n",
        "  \n",
        "  return model"
      ]
    },
    {
      "cell_type": "code",
      "execution_count": null,
      "id": "82932c05",
      "metadata": {
        "id": "RwvKV1CZR6uC"
      },
      "outputs": [],
      "source": [
        "# Test code\n",
        "try:\n",
        "  model = create_softmax_model(784, 10)\n",
        "  print(\"Model architecture:\")\n",
        "  model.summary()\n",
        "  \n",
        "  # Test với 1 batch nhỏ\n",
        "  test_input = tf.random.normal((5, 784))\n",
        "  test_output = model(test_input)\n",
        "  print(f\"\\nTest output shape: {test_output.shape}\")\n",
        "  print(f\"Output sum (should be ~1.0): {tf.reduce_sum(test_output[0]):.3f}\")\n",
        "  \n",
        "except Exception as e:\n",
        "  print(f\"Lỗi thực thi: {e}\")"
      ]
    },
    {
      "cell_type": "markdown",
      "id": "f9da1738",
      "metadata": {
        "id": "pLPZP9UbpfeG"
      },
      "source": [
        "### 3.2. Compile mô hình"
      ]
    },
    {
      "cell_type": "markdown",
      "id": "735efd0d",
      "metadata": {
        "id": "QcMBhJKQCZbR"
      },
      "source": [
        "```TODO 4:``` Compile mô hình với optimizer, loss và metrics phù hợp"
      ]
    },
    {
      "cell_type": "code",
      "execution_count": null,
      "id": "e8a1407f",
      "metadata": {
        "id": "9qyfElMkfpr7"
      },
      "outputs": [],
      "source": [
        "def compile_model(model, learning_rate=0.01):\n",
        "  \"\"\"\n",
        "  Compile mô hình với optimizer, loss, và metrics\n",
        "  Đầu vào:\n",
        "    model: tf.keras.Model\n",
        "    learning_rate: float, tốc độ học\n",
        "  \"\"\"\n",
        "  # TODO: Lập trình tại đây\n",
        "  \n",
        "  # Compile model với:\n",
        "  # - optimizer: SGD với learning_rate\n",
        "  # - loss: categorical_crossentropy \n",
        "  # - metrics: accuracy\n",
        "  model.compile(\n",
        "    optimizer=None,\n",
        "    loss=None,\n",
        "    metrics=None\n",
        "  )\n",
        "  \n",
        "  return model"
      ]
    },
    {
      "cell_type": "code",
      "execution_count": null,
      "id": "2edea7a1",
      "metadata": {
        "id": "Sg2AO3vdqb32"
      },
      "outputs": [],
      "source": [
        "# Test code\n",
        "try:\n",
        "  model = create_softmax_model(784, 10)\n",
        "  model = compile_model(model, learning_rate=0.01)\n",
        "  \n",
        "  print(\"Model compiled successfully!\")\n",
        "  print(f\"Optimizer: {type(model.optimizer).__name__}\")\n",
        "  print(f\"Loss function: {model.loss}\")\n",
        "  print(f\"Metrics: {[m.name for m in model.metrics]}\")\n",
        "  \n",
        "except Exception as e:\n",
        "  print(f\"Lỗi thực thi: {e}\")"
      ]
    },
    {
      "cell_type": "markdown",
      "id": "a8aa307d",
      "metadata": {
        "id": "1s3j77_TnXb6"
      },
      "source": [
        "### 3.3. Training với validation"
      ]
    },
    {
      "cell_type": "markdown",
      "id": "690c8a90",
      "metadata": {
        "id": "V7_-5WWAFnNY"
      },
      "source": [
        "```TODO 5:``` Thiết lập training loop"
      ]
    },
    {
      "cell_type": "code",
      "execution_count": null,
      "id": "2dc099bb",
      "metadata": {
        "id": "YvEPsNnQVwhA"
      },
      "outputs": [],
      "source": [
        "def train_model(model, X_train, Y_train, X_val, Y_val, epochs=10, batch_size=32):\n",
        "  \"\"\"\n",
        "  Train mô hình\n",
        "  Đầu vào:\n",
        "    model: tf.keras.Model\n",
        "    X_train, Y_train: training data\n",
        "    X_val, Y_val: validation data \n",
        "    epochs: số epoch\n",
        "    batch_size: kích thước batch\n",
        "  Đầu ra:\n",
        "    history: training history\n",
        "  \"\"\"\n",
        "  # TODO: Lập trình tại đây\n",
        "  \n",
        "  # Sử dụng model.fit() để train\n",
        "  history = None\n",
        "  \n",
        "  return history"
      ]
    },
    {
      "cell_type": "markdown",
      "id": "3884bce9",
      "metadata": {
        "id": "kEo8kS0qn7Qp"
      },
      "source": [
        "### 3.4. Thực hiện training"
      ]
    },
    {
      "cell_type": "code",
      "execution_count": null,
      "id": "7c66e76f",
      "metadata": {
        "id": "CPUEd1XgSdAZ"
      },
      "outputs": [],
      "source": [
        "try:\n",
        "  # Tạo và compile model\n",
        "  model = create_softmax_model(784, 10)\n",
        "  model = compile_model(model, learning_rate=0.01)\n",
        "  \n",
        "  # Training\n",
        "  history = train_model(\n",
        "    model, X_train_processed, Y_train_processed, \n",
        "    X_val_processed, Y_val_processed, \n",
        "    epochs=10, batch_size=128\n",
        "  )\n",
        "  \n",
        "  print(\"Training completed!\")\n",
        "  \n",
        "except Exception as e:\n",
        "  print(f\"Lỗi thực thi: {e}\")"
      ]
    },
    {
      "cell_type": "markdown",
      "id": "79de2ca7",
      "metadata": {
        "id": "synhX0QdoV8V"
      },
      "source": [
        "### 3.5. Visualization và Evaluation"
      ]
    },
    {
      "cell_type": "markdown",
      "id": "d57092e8",
      "metadata": {
        "id": "utTYFJ8eGsWj"
      },
      "source": [
        "```TODO 6:``` Vẽ đồ thị loss và accuracy"
      ]
    },
    {
      "cell_type": "code",
      "execution_count": null,
      "id": "45e6a41d",
      "metadata": {
        "id": "r_YGatHvV4OU"
      },
      "outputs": [],
      "source": [
        "def plot_training_history(history):\n",
        "  \"\"\"\n",
        "  Vẽ đồ thị training history\n",
        "  Đầu vào:\n",
        "    history: keras History object\n",
        "  \"\"\"\n",
        "  # TODO: Lập trình tại đây\n",
        "  \n",
        "  # Tạo subplot với 2 đồ thị: loss và accuracy\n",
        "  fig, (ax1, ax2) = plt.subplots(1, 2, figsize=(12, 4))\n",
        "  \n",
        "  # Vẽ loss\n",
        "  # ax1.plot loss và val_loss\n",
        "  \n",
        "  # Vẽ accuracy  \n",
        "  # ax2.plot accuracy và val_accuracy\n",
        "  \n",
        "  plt.tight_layout()\n",
        "  plt.show()"
      ]
    },
    {
      "cell_type": "code",
      "execution_count": null,
      "id": "8b3a7cdb",
      "metadata": {
        "id": "d8F7KKiaqMoo"
      },
      "outputs": [],
      "source": [
        "# Test visualization\n",
        "try:\n",
        "  if 'history' in locals():\n",
        "    plot_training_history(history)\n",
        "  else:\n",
        "    print(\"Chạy training trước để có history data\")\n",
        "except Exception as e:\n",
        "  print(f\"Lỗi thực thi: {e}\")"
      ]
    },
    {
      "cell_type": "markdown",
      "id": "1a74f7b1",
      "metadata": {
        "id": "6_F6mzXts_q6"
      },
      "source": [
        "### 3.6. Evaluation và Prediction"
      ]
    },
    {
      "cell_type": "markdown",
      "id": "d4162ccb",
      "metadata": {
        "id": "JEgdlxSziF64"
      },
      "source": [
        "```TODO 7:``` Tạo hàm đánh giá và dự đoán"
      ]
    },
    {
      "cell_type": "code",
      "execution_count": null,
      "id": "722e69b6",
      "metadata": {
        "id": "EKFL48BhZnUu"
      },
      "outputs": [],
      "source": [
        "def evaluate_model(model, X_test, Y_test):\n",
        "  \"\"\"\n",
        "  Đánh giá mô hình\n",
        "  Đầu vào:\n",
        "    model: trained model\n",
        "    X_test, Y_test: test data\n",
        "  Đầu ra:\n",
        "    loss, accuracy: float values\n",
        "  \"\"\"\n",
        "  # TODO: Lập trình tại đây\n",
        "  \n",
        "  # Sử dụng model.evaluate()\n",
        "  results = None\n",
        "  loss, accuracy = None, None\n",
        "  \n",
        "  return loss, accuracy\n",
        "\n",
        "def predict_samples(model, X_samples, Y_true, num_samples=5):\n",
        "  \"\"\"\n",
        "  Dự đoán và hiển thị một số mẫu\n",
        "  Đầu vào:\n",
        "    model: trained model\n",
        "    X_samples: input samples (flattened)\n",
        "    Y_true: true labels (not one-hot)\n",
        "    num_samples: số mẫu cần hiển thị\n",
        "  \"\"\"\n",
        "  # TODO: Lập trình tại đây\n",
        "  \n",
        "  # Dự đoán\n",
        "  predictions = None  # model.predict()\n",
        "  predicted_classes = None  # tf.argmax()\n",
        "  \n",
        "  # Hiển thị kết quả\n",
        "  print(\"Prediction Results:\")\n",
        "  for i in range(min(num_samples, len(Y_true))):\n",
        "    print(f\"Sample {i}: True={Y_true[i]}, Predicted={predicted_classes[i]}, Confidence={tf.reduce_max(predictions[i]):.3f}\")"
      ]
    },
    {
      "cell_type": "code",
      "execution_count": null,
      "id": "facdf70b",
      "metadata": {
        "id": "pRMGqqDStmtz"
      },
      "outputs": [],
      "source": [
        "# Test evaluation\n",
        "try:\n",
        "  if 'model' in locals():\n",
        "    # Evaluate on validation set\n",
        "    val_loss, val_accuracy = evaluate_model(model, X_val_processed, Y_val_processed)\n",
        "    print(f\"Validation Loss: {val_loss:.4f}\")\n",
        "    print(f\"Validation Accuracy: {val_accuracy:.4f}\")\n",
        "    \n",
        "    # Predict some samples\n",
        "    predict_samples(model, X_val_processed[:10], Y_val[:10])\n",
        "  else:\n",
        "    print(\"Train model trước khi evaluate\")\n",
        "    \n",
        "except Exception as e:\n",
        "  print(f\"Lỗi thực thi: {e}\")"
      ]
    },
    {
      "cell_type": "markdown",
      "id": "91e60ee2",
      "metadata": {
        "id": "wANOqHYluGpi"
      },
      "source": [
        "### 3.7. So sánh với implementation từ scratch"
      ]
    },
    {
      "cell_type": "markdown",
      "id": "b9452508",
      "metadata": {
        "id": "lT-ysBeRmeXk"
      },
      "source": [
        "```TODO 8:``` Tạo custom training loop để hiểu rõ hơn về cách TensorFlow hoạt động"
      ]
    },
    {
      "cell_type": "code",
      "execution_count": null,
      "id": "e117d2f3",
      "metadata": {
        "id": "GUDj8wZ4aOYR"
      },
      "outputs": [],
      "source": [
        "def custom_training_loop(model, X_train, Y_train, X_val, Y_val, epochs=5, batch_size=128):\n",
        "  \"\"\"\n",
        "  Custom training loop sử dụng GradientTape\n",
        "  Đầu vào:\n",
        "    model: tf.keras.Model (chưa compile)\n",
        "    X_train, Y_train: training data\n",
        "    X_val, Y_val: validation data\n",
        "    epochs: số epoch\n",
        "    batch_size: kích thước batch\n",
        "  \"\"\"\n",
        "  # TODO: Lập trình tại đây\n",
        "  \n",
        "  # Thiết lập optimizer và loss function\n",
        "  optimizer = None  # SGD optimizer\n",
        "  loss_fn = None    # CategoricalCrossentropy\n",
        "  \n",
        "  # Training metrics\n",
        "  train_loss = tf.keras.metrics.Mean()\n",
        "  train_accuracy = tf.keras.metrics.CategoricalAccuracy()\n",
        "  \n",
        "  # Training loop\n",
        "  for epoch in range(epochs):\n",
        "    print(f\"Epoch {epoch + 1}/{epochs}\")\n",
        "    \n",
        "    # Reset metrics\n",
        "    train_loss.reset_states()\n",
        "    train_accuracy.reset_states()\n",
        "    \n",
        "    # Create batches\n",
        "    dataset = tf.data.Dataset.from_tensor_slices((X_train, Y_train))\n",
        "    dataset = dataset.batch(batch_size)\n",
        "    \n",
        "    # Training step\n",
        "    for batch_x, batch_y in dataset:\n",
        "      # TODO: Implement training step với GradientTape\n",
        "      with tf.GradientTape() as tape:\n",
        "        # Forward pass\n",
        "        predictions = None\n",
        "        # Compute loss\n",
        "        loss = None\n",
        "      \n",
        "      # Compute gradients\n",
        "      gradients = None\n",
        "      # Apply gradients\n",
        "      optimizer.apply_gradients(zip(gradients, model.trainable_variables))\n",
        "      \n",
        "      # Update metrics\n",
        "      train_loss.update_state(loss)\n",
        "      train_accuracy.update_state(batch_y, predictions)\n",
        "    \n",
        "    # Validation\n",
        "    val_predictions = model(X_val)\n",
        "    val_loss = loss_fn(Y_val, val_predictions)\n",
        "    val_accuracy = tf.keras.metrics.categorical_accuracy(Y_val, val_predictions)\n",
        "    val_accuracy = tf.reduce_mean(val_accuracy)\n",
        "    \n",
        "    print(f\"Loss: {train_loss.result():.4f}, Accuracy: {train_accuracy.result():.4f}, \"\n",
        "          f\"Val Loss: {val_loss:.4f}, Val Accuracy: {val_accuracy:.4f}\")"
      ]
    },
    {
      "cell_type": "code",
      "execution_count": null,
      "id": "c13e4e0d",
      "metadata": {
        "id": "_VLS3Y0RxLMw"
      },
      "outputs": [],
      "source": [
        "# Test custom training loop\n",
        "try:\n",
        "  # Tạo model mới cho custom training\n",
        "  custom_model = create_softmax_model(784, 10)\n",
        "  \n",
        "  # Custom training (không cần compile)\n",
        "  print(\"Training với custom loop:\")\n",
        "  custom_training_loop(\n",
        "    custom_model, \n",
        "    X_train_processed[:5000], Y_train_processed[:5000],  # Subset for faster training\n",
        "    X_val_processed[:1000], Y_val_processed[:1000],\n",
        "    epochs=3, batch_size=64\n",
        "  )\n",
        "  \n",
        "except Exception as e:\n",
        "  print(f\"Lỗi thực thi: {e}\")"
      ]
    },
    {
      "cell_type": "markdown",
      "id": "7c33fe65",
      "metadata": {
        "id": "kh3z_sWswKdB"
      },
      "source": [
        "### Vậy là bạn đã xây dựng thành công mô hình Softmax Regression với TensorFlow/Keras!"
      ]
    },
    {
      "cell_type": "markdown",
      "id": "4084be85",
      "metadata": {
        "id": "0qnxk9y_xfGu"
      },
      "source": [
        "**Những điều bạn đã học được:**\n",
        "1. Sử dụng TensorFlow/Keras để preprocessing dữ liệu\n",
        "2. Xây dựng mô hình Sequential với Dense layer và Softmax activation\n",
        "3. Compile mô hình với optimizer, loss function và metrics\n",
        "4. Training mô hình với validation\n",
        "5. Visualization training history\n",
        "6. Evaluation và prediction\n",
        "7. Custom training loop với GradientTape\n",
        "\n",
        "**So sánh với NumPy thuần:**\n",
        "- TensorFlow tự động tính gradient và backpropagation\n",
        "- Built-in optimizer và loss functions\n",
        "- GPU acceleration tự động\n",
        "- Dễ dàng scaling và deployment"
      ]
    }
  ],
  "metadata": {
    "language_info": {
      "name": "python"
    }
  },
  "nbformat": 4,
  "nbformat_minor": 5
}
