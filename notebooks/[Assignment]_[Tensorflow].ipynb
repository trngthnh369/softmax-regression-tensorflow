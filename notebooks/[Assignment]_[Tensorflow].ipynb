{
  "cells": [
    {
      "cell_type": "markdown",
      "metadata": {
        "id": "DNskF-vZx2cy"
      },
      "source": [
        "# Bài tập lập trình: Softmax Regression với TensorFlow Keras\n",
        "\n",
        "### Hướng dẫn làm bài \n",
        "- Trong bài tập này bạn sẽ sử dụng Python 3 và TensorFlow/Keras.\n",
        "- Sau khi bạn viết Code của mình xong, hãy chạy dòng Code đó để xem kết quả bên dưới. \n",
        "\n",
        "### [Quan trọng] Chú ý\n",
        "- **Không sử dụng hàm `input()` tại bất kỳ dòng lệnh nào**\n",
        "- **Không thay đổi dòng code return của hàm**\n",
        "\n",
        "Các bạn sẽ thực hiện `code` trong các phần hiển thị `#TODO: Lập trình tại đây` và thay thế các vị trí `None`. Có những câu hỏi chỉ cần trả về đáp án.\n",
        "\n",
        "Sau khi viết xong Code của bạn, bạn hãy ấn \"SHIFT\"+\"ENTER\" để thực hiện chạy lệnh của Cell đó. \n",
        "\n",
        "---\n",
        "Điểm số:\n",
        "* 10 điểm / Câu\n",
        "\n",
        "Tiêu chí chấm điểm:\n",
        "* Các bài tập sẽ được chấm dựa trên các Test-case.\n",
        "* Các bạn không khởi tạo lại giá trị đầu vào bên trong hàm. Có thể khởi tạo các giá trị này ngoài hàm nhằm mục đích kiểm thử."
      ]
    },
    {
      "cell_type": "markdown",
      "metadata": {
        "id": "import_libs"
      },
      "source": [
        "## Import thư viện"
      ]
    },
    {
      "cell_type": "code",
      "execution_count": null,
      "metadata": {
        "id": "Onq15lwRRsJS"
      },
      "outputs": [],
      "source": [
        "import tensorflow as tf\n",
        "import numpy as np\n",
        "import matplotlib.pyplot as plt\n",
        "from sklearn.metrics import classification_report, confusion_matrix\n",
        "import seaborn as sns\n",
        "\n",
        "# Set random seeds for reproducibility\n",
        "np.random.seed(42)\n",
        "tf.random.set_seed(42)\n",
        "\n",
        "print(\"TensorFlow version:\", tf.__version__)"
      ]
    },
    {
      "cell_type": "markdown",
      "metadata": {
        "id": "osy4dRRiRa1E"
      },
      "source": [
        "## 1. Tải dữ liệu MNIST"
      ]
    },
    {
      "cell_type": "code",
      "execution_count": null,
      "metadata": {
        "id": "iVlUEU7pceyr"
      },
      "outputs": [],
      "source": [
        "# Load MNIST dataset\n",
        "(X_train, Y_train), (X_val, Y_val) = tf.keras.datasets.mnist.load_data()\n",
        "\n",
        "print(f\"Training data shape: {X_train.shape}\")\n",
        "print(f\"Training labels shape: {Y_train.shape}\")\n",
        "print(f\"Validation data shape: {X_val.shape}\")\n",
        "print(f\"Validation labels shape: {Y_val.shape}\")"
      ]
    },
    {
      "cell_type": "markdown",
      "metadata": {
        "id": "egzxTzYNRfEV"
      },
      "source": [
        "## 2. Tiền xử lý dữ liệu\n",
        "\n",
        "### 2.1. Chuẩn hóa và reshape dữ liệu"
      ]
    },
    {
      "cell_type": "markdown",
      "metadata": {
        "id": "nkgFiPw8V1zF"
      },
      "source": [
        "```TODO 1:``` Viết hàm tiền xử lý dữ liệu"
      ]
    },
    {
      "cell_type": "code",
      "execution_count": null,
      "metadata": {
        "id": "H5wR-w7XUlji"
      },
      "outputs": [],
      "source": [
        "def preprocess_data(X_train, Y_train, X_val, Y_val, num_classes=10):\n",
        "    \"\"\"\n",
        "    Tiền xử lý dữ liệu MNIST cho Softmax Regression\n",
        "    Đầu vào:\n",
        "        X_train: numpy array, ảnh training (60000, 28, 28)\n",
        "        Y_train: numpy array, nhãn training (60000,)\n",
        "        X_val: numpy array, ảnh validation (10000, 28, 28)\n",
        "        Y_val: numpy array, nhãn validation (10000,)\n",
        "        num_classes: int, số lượng lớp (10)\n",
        "    Đầu ra:\n",
        "        Tuple: (X_train_processed, Y_train_processed, X_val_processed, Y_val_processed)\n",
        "    \"\"\"\n",
        "    # TODO: Lập trình tại đây\n",
        "    \n",
        "    # Bước 1: Reshape ảnh từ (batch_size, 28, 28) thành (batch_size, 784)\n",
        "    X_train_processed = None\n",
        "    X_val_processed = None\n",
        "    \n",
        "    # Bước 2: Chuẩn hóa pixel values từ [0, 255] thành [0, 1]\n",
        "    X_train_processed = None\n",
        "    X_val_processed = None\n",
        "    \n",
        "    # Bước 3: Chuyển đổi nhãn thành categorical (one-hot encoding)\n",
        "    Y_train_processed = None\n",
        "    Y_val_processed = None\n",
        "    \n",
        "    return X_train_processed, Y_train_processed, X_val_processed, Y_val_processed"
      ]
    },
    {
      "cell_type": "markdown",
      "metadata": {
        "id": "MoTyKp8ZrMCp"
      },
      "source": [
        "Test code"
      ]
    },
    {
      "cell_type": "code",
      "execution_count": null,
      "metadata": {
        "id": "q5pUkhyUWLKz"
      },
      "outputs": [],
      "source": [
        "# Test function\n",
        "try:\n",
        "    X_train_proc, Y_train_proc, X_val_proc, Y_val_proc = preprocess_data(X_train, Y_train, X_val, Y_val)\n",
        "    \n",
        "    print(f\"Processed training data shape: {X_train_proc.shape}\")\n",
        "    print(f\"Processed training labels shape: {Y_train_proc.shape}\")\n",
        "    print(f\"Processed validation data shape: {X_val_proc.shape}\")\n",
        "    print(f\"Processed validation labels shape: {Y_val_proc.shape}\")\n",
        "    print(f\"Pixel value range: [{X_train_proc.min():.3f}, {X_train_proc.max():.3f}]\")\n",
        "    print(f\"First label one-hot: {Y_train_proc[0]}\")\n",
        "except Exception as e:\n",
        "    print(\"Lỗi thực thi: \", e)"
      ]
    },
    {
      "cell_type": "markdown",
      "metadata": {
        "id": "ymhnNMN2c-mJ"
      },
      "source": [
        "**Kết quả mong đợi:**\n",
        "\n",
        "```\n",
        "Processed training data shape: (60000, 784)\n",
        "Processed training labels shape: (60000, 10)\n",
        "Processed validation data shape: (10000, 784)\n",
        "Processed validation labels shape: (10000, 10)\n",
        "Pixel value range: [0.000, 1.000]\n",
        "First label one-hot: [0. 0. 0. 0. 0. 1. 0. 0. 0. 0.]\n",
        "```"
      ]
    },
    {
      "cell_type": "markdown",
      "metadata": {
        "id": "C1moGHZqatpv"
      },
      "source": [
        "## 3. Xây dựng mô hình Softmax Regression với Keras\n",
        "\n",
        "### 3.1. Tạo mô hình Sequential"
      ]
    },
    {
      "cell_type": "markdown",
      "metadata": {
        "id": "AOViA-UBCoIE"
      },
      "source": [
        "```TODO 2:``` Xây dựng mô hình Softmax Regression"
      ]
    },
    {
      "cell_type": "code",
      "execution_count": null,
      "metadata": {
        "id": "rhCfaD_ia6zh"
      },
      "outputs": [],
      "source": [
        "def create_softmax_model(input_dim=784, num_classes=10):\n",
        "    \"\"\"\n",
        "    Tạo mô hình Softmax Regression sử dụng Keras Sequential API\n",
        "    Đầu vào:\n",
        "        input_dim: int, số chiều đầu vào (784 cho MNIST)\n",
        "        num_classes: int, số lượng lớp (10 cho MNIST)\n",
        "    Đầu ra:\n",
        "        model: tf.keras.Model object\n",
        "    \"\"\"\n",
        "    # TODO: Lập trình tại đây\n",
        "    \n",
        "    # Tạo mô hình Sequential\n",
        "    model = None\n",
        "    \n",
        "    # Thêm Dense layer với activation='softmax'\n",
        "    # Lưu ý: Không cần hidden layer, chỉ cần 1 Dense layer duy nhất\n",
        "    \n",
        "    return model"
      ]
    },
    {
      "cell_type": "markdown",
      "metadata": {
        "id": "QblYZMkCm6Nr"
      },
      "source": [
        "Test code"
      ]
    },
    {
      "cell_type": "code",
      "execution_count": null,
      "metadata": {
        "id": "RwvKV1CZR6uC"
      },
      "outputs": [],
      "source": [
        "# Tạo mô hình\n",
        "try:\n",
        "    model = create_softmax_model()\n",
        "    \n",
        "    # Hiển thị thông tin mô hình\n",
        "    model.summary()\n",
        "    \n",
        "    # Kiểm tra số tham số\n",
        "    total_params = model.count_params()\n",
        "    expected_params = 784 * 10 + 10  # weights + biases\n",
        "    print(f\"Total parameters: {total_params}\")\n",
        "    print(f\"Expected parameters: {expected_params}\")\n",
        "    print(f\"Correct number of parameters: {total_params == expected_params}\")\n",
        "except Exception as e:\n",
        "    print(\"Lỗi thực thi: \", e)"
      ]
    },
    {
      "cell_type": "markdown",
      "metadata": {
        "id": "pLPZP9UbpfeG"
      },
      "source": [
        "### 3.2. Compile mô hình"
      ]
    },
    {
      "cell_type": "markdown",
      "metadata": {
        "id": "QcMBhJKQCZbR"
      },
      "source": [
        "```TODO 3:``` Compile mô hình với optimizer, loss function và metrics phù hợp"
      ]
    },
    {
      "cell_type": "code",
      "execution_count": null,
      "metadata": {
        "id": "9qyfElMkfpr7"
      },
      "outputs": [],
      "source": [
        "def compile_model(model, learning_rate=0.01):\n",
        "    \"\"\"\n",
        "    Compile mô hình với optimizer, loss function và metrics\n",
        "    Đầu vào:\n",
        "        model: tf.keras.Model object\n",
        "        learning_rate: float, tốc độ học\n",
        "    Đầu ra:\n",
        "        model: compiled model\n",
        "    \"\"\"\n",
        "    # TODO: Lập trình tại đây\n",
        "    \n",
        "    # Chọn optimizer (sử dụng SGD với learning rate được chỉ định)\n",
        "    optimizer = None\n",
        "    \n",
        "    # Chọn loss function (categorical crossentropy cho multi-class classification)\n",
        "    loss_function = None\n",
        "    \n",
        "    # Chọn metrics (accuracy)\n",
        "    metrics = None\n",
        "    \n",
        "    # Compile model\n",
        "    model.compile(\n",
        "        optimizer=optimizer,\n",
        "        loss=loss_function,\n",
        "        metrics=metrics\n",
        "    )\n",
        "    \n",
        "    return model"
      ]
    },
    {
      "cell_type": "markdown",
      "metadata": {
        "id": "dwi9mjhhu2Gh"
      },
      "source": [
        "Test code"
      ]
    },
    {
      "cell_type": "code",
      "execution_count": null,
      "metadata": {
        "id": "Sg2AO3vdqb32"
      },
      "outputs": [],
      "source": [
        "# Compile mô hình\n",
        "try:\n",
        "    model = compile_model(model, learning_rate=0.01)\n",
        "    print(\"Model compiled successfully!\")\n",
        "except Exception as e:\n",
        "    print(\"Lỗi thực thi: \", e)"
      ]
    },
    {
      "cell_type": "markdown",
      "metadata": {
        "id": "wANOqHYluGpi"
      },
      "source": [
        "## 4. Training mô hình\n",
        "\n",
        "### 4.1. Thiết kế callback functions"
      ]
    },
    {
      "cell_type": "markdown",
      "metadata": {
        "id": "lT-ysBeRmeXk"
      },
      "source": [
        "```TODO 4:``` Tạo callback functions để theo dõi quá trình training"
      ]
    },
    {
      "cell_type": "code",
      "execution_count": null,
      "metadata": {
        "id": "GUDj8wZ4aOYR"
      },
      "outputs": [],
      "source": [
        "def create_callbacks():\n",
        "    \"\"\"\n",
        "    Tạo callback functions cho training process\n",
        "    Đầu ra:\n",
        "        callbacks: list of callback functions\n",
        "    \"\"\"\n",
        "    # TODO: Lập trình tại đây\n",
        "    \n",
        "    callbacks = []\n",
        "    \n",
        "    # Early Stopping callback\n",
        "    early_stopping = None\n",
        "    \n",
        "    # Learning Rate Reduction callback\n",
        "    lr_reduction = None\n",
        "    \n",
        "    callbacks.append(early_stopping)\n",
        "    callbacks.append(lr_reduction)\n",
        "    \n",
        "    return callbacks"
      ]
    },
    {
      "cell_type": "markdown",
      "metadata": {
        "id": "Q7AbN9qiqLvt"
      },
      "source": [
        "Test code"
      ]
    },
    {
      "cell_type": "code",
      "execution_count": null,
      "metadata": {
        "id": "d8F7KKiaqMoo"
      },
      "outputs": [],
      "source": [
        "try:\n",
        "    callbacks = create_callbacks()\n",
        "    print(f\"Created {len(callbacks)} callbacks\")\n",
        "    for i, callback in enumerate(callbacks):\n",
        "        print(f\"Callback {i+1}: {type(callback).__name__}\")\n",
        "except Exception as e:\n",
        "    print(\"Lỗi thực thi: \", e)"
      ]
    },
    {
      "cell_type": "markdown",
      "metadata": {
        "id": "6C2XgSCNsbuA"
      },
      "source": [
        "### 4.2. Training mô hình"
      ]
    },
    {
      "cell_type": "markdown",
      "metadata": {
        "id": "JEgdlxSziF64"
      },
      "source": [
        "```TODO 5:``` Huấn luyện mô hình"
      ]
    },
    {
      "cell_type": "code",
      "execution_count": null,
      "metadata": {
        "id": "EKFL48BhZnUu"
      },
      "outputs": [],
      "source": [
        "def train_model(model, X_train, Y_train, X_val, Y_val, epochs=50, batch_size=128, callbacks=None):\n",
        "    \"\"\"\n",
        "    Huấn luyện mô hình Softmax Regression\n",
        "    Đầu vào:\n",
        "        model: tf.keras.Model object\n",
        "        X_train, Y_train: training data và labels\n",
        "        X_val, Y_val: validation data và labels  \n",
        "        epochs: int, số epochs\n",
        "        batch_size: int, kích thước batch\n",
        "        callbacks: list of callbacks\n",
        "    Đầu ra:\n",
        "        history: training history object\n",
        "    \"\"\"\n",
        "    # TODO: Lập trình tại đây\n",
        "    \n",
        "    history = None\n",
        "    \n",
        "    return history"
      ]
    },
    {
      "cell_type": "markdown",
      "metadata": {
        "id": "406NCFrvt8Lt"
      },
      "source": [
        "Test code"
      ]
    },
    {
      "cell_type": "code",
      "execution_count": null,
      "metadata": {
        "id": "pRMGqqDStmtz"
      },
      "outputs": [],
      "source": [
        "# Train mô hình\n",
        "try:\n",
        "    history = train_model(\n",
        "        model, \n",
        "        X_train_proc, Y_train_proc, \n",
        "        X_val_proc, Y_val_proc, \n",
        "        epochs=30, \n",
        "        batch_size=128,\n",
        "        callbacks=callbacks\n",
        "    )\n",
        "    print(\"Training completed!\")\n",
        "except Exception as e:\n",
        "    print(\"Lỗi thực thi: \", e)"
      ]
    },
    {
      "cell_type": "markdown",
      "metadata": {
        "id": "wANOqHYluGpi2"
      },
      "source": [
        "## 5. Đánh giá mô hình\n",
        "\n",
        "### 5.1. Vẽ đồ thị training history"
      ]
    },
    {
      "cell_type": "markdown",
      "metadata": {
        "id": "lT-ysBeRmeXk2"
      },
      "source": [
        "```TODO 6:``` Tạo hàm vẽ đồ thị loss và accuracy"
      ]
    },
    {
      "cell_type": "code",
      "execution_count": null,
      "metadata": {
        "id": "GUDj8wZ4aOYR2"
      },
      "outputs": [],
      "source": [
        "def plot_training_history(history):\n",
        "    \"\"\"\n",
        "    Vẽ đồ thị training history (loss và accuracy)\n",
        "    Đầu vào:\n",
        "        history: training history object\n",
        "    \"\"\"\n",
        "    # TODO: Lập trình tại đây\n",
        "    \n",
        "    # Tạo subplot với 2 đồ thị\n",
        "    fig, (ax1, ax2) = plt.subplots(1, 2, figsize=(12, 4))\n",
        "    \n",
        "    # Đồ thị Loss\n",
        "    # Plot training & validation loss\n",
        "    \n",
        "    # Đồ thị Accuracy  \n",
        "    # Plot training & validation accuracy\n",
        "    \n",
        "    plt.tight_layout()\n",
        "    plt.show()"
      ]
    },
    {
      "cell_type": "markdown",
      "metadata": {
        "id": "Q7AbN9qiqLvt2"
      },
      "source": [
        "Test code"
      ]
    },
    {
      "cell_type": "code",
      "execution_count": null,
      "metadata": {
        "id": "d8F7KKiaqMoo2"
      },
      "outputs": [],
      "source": [
        "# Vẽ đồ thị\n",
        "try:\n",
        "    plot_training_history(history)\n",
        "except Exception as e:\n",
        "    print(\"Lỗi thực thi: \", e)"
      ]
    },
    {
      "cell_type": "markdown",
      "metadata": {
        "id": "evaluation_section"
      },
      "source": [
        "### 5.2. Tính toán metrics chi tiết"
      ]
    },
    {
      "cell_type": "markdown",
      "metadata": {
        "id": "evaluation_todo"
      },
      "source": [
        "```TODO 7:``` Tính toán và hiển thị metrics chi tiết"
      ]
    },
    {
      "cell_type": "code",
      "execution_count": null,
      "metadata": {
        "id": "evaluation_code"
      },
      "outputs": [],
      "source": [
        "def evaluate_model(model, X_test, Y_test_categorical, Y_test_original):\n",
        "    \"\"\"\n",
        "    Đánh giá mô hình và hiển thị metrics chi tiết\n",
        "    Đầu vào:\n",
        "        model: trained model\n",
        "        X_test: test data\n",
        "        Y_test_categorical: test labels (one-hot)\n",
        "        Y_test_original: test labels (original format)\n",
        "    \"\"\"\n",
        "    # TODO: Lập trình tại đây\n",
        "    \n",
        "    # Dự đoán trên test set\n",
        "    predictions = None\n",
        "    predicted_classes = None\n",
        "    \n",
        "    # Tính accuracy\n",
        "    test_accuracy = None\n",
        "    \n",
        "    # Classification report\n",
        "    print(\"Classification Report:\")\n",
        "    print(None)\n",
        "    \n",
        "    # Confusion Matrix\n",
        "    print(\"\\nConfusion Matrix:\")\n",
        "    cm = None\n",
        "    \n",
        "    # Vẽ confusion matrix\n",
        "    plt.figure(figsize=(10, 8))\n",
        "    sns.heatmap(cm, annot=True, fmt='d', cmap='Blues')\n",
        "    plt.title('Confusion Matrix')\n",
        "    plt.xlabel('Predicted Label')\n",
        "    plt.ylabel('True Label')\n",
        "    plt.show()\n",
        "    \n",
        "    return test_accuracy, predictions"
      ]
    },
    {
      "cell_type": "markdown",
      "metadata": {
        "id": "evaluation_test"
      },
      "source": [
        "Test code"
      ]
    },
    {
      "cell_type": "code",
      "execution_count": null,
      "metadata": {
        "id": "evaluation_test_code"
      },
      "outputs": [],
      "source": [
        "# Đánh giá mô hình\n",
        "try:\n",
        "    test_acc, predictions = evaluate_model(model, X_val_proc, Y_val_proc, Y_val)\n",
        "    print(f\"\\nFinal Test Accuracy: {test_acc:.4f}\")\n",
        "except Exception as e:\n",
        "    print(\"Lỗi thực thi: \", e)"
      ]
    },
    {
      "cell_type": "markdown",
      "metadata": {
        "id": "visualization_section"
      },
      "source": [
        "### 5.3. Visualize predictions"
      ]
    },
    {
      "cell_type": "markdown",
      "metadata": {
        "id": "visualization_todo"
      },
      "source": [
        "```TODO 8:``` Tạo hàm hiển thị một số predictions"
      ]
    },
    {
      "cell_type": "code",
      "execution_count": null,
      "metadata": {
        "id": "visualization_code"
      },
      "outputs": [],
      "source": [
        "def visualize_predictions(X_test, Y_test, predictions, num_samples=10):\n",
        "    \"\"\"\n",
        "    Hiển thị một số ảnh với predictions\n",
        "    Đầu vào:\n",
        "        X_test: test images (flattened)\n",
        "        Y_test: true labels\n",
        "        predictions: model predictions\n",
        "        num_samples: số lượng mẫu hiển thị\n",
        "    \"\"\"\n",
        "    # TODO: Lập trình tại đây\n",
        "    \n",
        "    # Reshape lại ảnh từ (784,) thành (28, 28)\n",
        "    X_images = None\n",
        "    \n",
        "    # Random chọn indices\n",
        "    indices = None\n",
        "    \n",
        "    # Tạo subplot\n",
        "    fig, axes = plt.subplots(2, 5, figsize=(12, 6))\n",
        "    axes = axes.ravel()\n",
        "    \n",
        "    for i, idx in enumerate(indices):\n",
        "        # Hiển thị ảnh\n",
        "        \n",
        "        # Lấy true label và predicted label\n",
        "        true_label = None\n",
        "        pred_label = None\n",
        "        confidence = None\n",
        "        \n",
        "        # Set title và color\n",
        "        color = 'green' if true_label == pred_label else 'red'\n",
        "        \n",
        "    plt.tight_layout()\n",
        "    plt.show()"
      ]
    },
    {
      "cell_type": "markdown",
      "metadata": {
        "id": "visualization_test"
      },
      "source": [
        "Test code"
      ]
    },
    {
      "cell_type": "code",
      "execution_count": null,
      "metadata": {
        "id": "visualization_test_code"
      },
      "outputs": [],
      "source": [
        "# Hiển thị predictions\n",
        "try:\n",
        "    visualize_predictions(X_val_proc, Y_val, predictions, num_samples=10)\n",
        "except Exception as e:\n",
        "    print(\"Lỗi thực thi: \", e)"
      ]
    },
    {
      "cell_type": "markdown",
      "metadata": {
        "id": "end_cell"
      },
      "source": [
        "## Kết thúc bài tập\n",
        "\n",
        "Chúc mừng bạn đã hoàn thành bài tập về Softmax Regression với TensorFlow Keras! Hãy chắc chắn rằng bạn đã hoàn thành tất cả các phần và kiểm tra kỹ lưỡng kết quả của mình trước khi nộp bài."
      ]
    }
    ],
    "metadata": {
        "kernelspec": {
            "display_name": "Python 3 (ipykernel)",
            "language": "python",
            "name": "python3"
        },
        "language_info": {
            "codemirror_mode": {
            "name": "ipython",
            "version": 3
            },
            "file_extension": ".py",
            "mimetype": "text/x-python",
            "name": "python",
            "nbconvert_exporter": "python",
            "pygments_lexer": "ipython3",
            "version": "3.8.10"
        },
        "toc": {
            "base_numbering": 1,
            "nav_menu": {},
            "number_sections": true,
            "sideBar": true,
            "skip_h1_title": false,
            "title_cell": "Table of Contents",
            "title_sidebar": "Contents",
            "toc_cell": false,
            "toc_position": {},
            "toc_section_display": true,
            "toc_window_display": false
        }
        },
    "nbformat": 4,
    "nbformat_minor": 5
}