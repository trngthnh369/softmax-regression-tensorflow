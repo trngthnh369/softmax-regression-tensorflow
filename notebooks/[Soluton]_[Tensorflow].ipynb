{
  "cells": [
    {
      "cell_type": "markdown",
      "metadata": {
        "id": "DNskF-vZx2cy"
      },
      "source": [
        "# Bài tập lập trình: Softmax Regression với TensorFlow Keras\n",
        "\n",
        "### Hướng dẫn làm bài \n",
        "- Trong bài tập này bạn sẽ sử dụng Python 3 và TensorFlow/Keras.\n",
        "- Sau khi bạn viết Code của mình xong, hãy chạy dòng Code đó để xem kết quả bên dưới. \n",
        "\n",
        "### [Quan trọng] Chú ý\n",
        "- **Không sử dụng hàm `input()` tại bất kỳ dòng lệnh nào**\n",
        "- **Không thay đổi dòng code return của hàm**\n",
        "\n",
        "Các bạn sẽ thực hiện `code` trong các phần hiển thị `#TODO: Lập trình tại đây` và thay thế các vị trí `None`. Có những câu hỏi chỉ cần trả về đáp án.\n",
        "\n",
        "Sau khi viết xong Code của bạn, bạn hãy ấn \"SHIFT\"+\"ENTER\" để thực hiện chạy lệnh của Cell đó. \n",
        "\n",
        "---\n",
        "Điểm số:\n",
        "* 10 điểm / Câu\n",
        "\n",
        "Tiêu chí chấm điểm:\n",
        "* Các bài tập sẽ được chấm dựa trên các Test-case.\n",
        "* Các bạn không khởi tạo lại giá trị đầu vào bên trong hàm. Có thể khởi tạo các giá trị này ngoài hàm nhằm mục đích kiểm thử."
      ]
    },
    {
      "cell_type": "markdown",
      "metadata": {
        "id": "import_libs"
      },
      "source": [
        "## Import thư viện"
      ]
    },
    {
      "cell_type": "code",
      "execution_count": 1,
      "metadata": {
        "id": "Onq15lwRRsJS"
      },
      "outputs": [
        {
          "name": "stdout",
          "output_type": "stream",
          "text": [
            "TensorFlow version: 2.20.0\n"
          ]
        }
      ],
      "source": [
        "import tensorflow as tf\n",
        "import numpy as np\n",
        "import matplotlib.pyplot as plt\n",
        "from sklearn.metrics import classification_report, confusion_matrix\n",
        "import seaborn as sns\n",
        "\n",
        "# Set random seeds for reproducibility\n",
        "np.random.seed(42)\n",
        "tf.random.set_seed(42)\n",
        "\n",
        "print(\"TensorFlow version:\", tf.__version__)"
      ]
    },
    {
      "cell_type": "markdown",
      "metadata": {
        "id": "osy4dRRiRa1E"
      },
      "source": [
        "## 1. Tải dữ liệu MNIST"
      ]
    },
    {
      "cell_type": "code",
      "execution_count": 2,
      "metadata": {
        "id": "iVlUEU7pceyr"
      },
      "outputs": [
        {
          "name": "stdout",
          "output_type": "stream",
          "text": [
            "Training data shape: (60000, 28, 28)\n",
            "Training labels shape: (60000,)\n",
            "Validation data shape: (10000, 28, 28)\n",
            "Validation labels shape: (10000,)\n"
          ]
        }
      ],
      "source": [
        "# Load MNIST dataset\n",
        "(X_train, Y_train), (X_val, Y_val) = tf.keras.datasets.mnist.load_data()\n",
        "\n",
        "print(f\"Training data shape: {X_train.shape}\")\n",
        "print(f\"Training labels shape: {Y_train.shape}\")\n",
        "print(f\"Validation data shape: {X_val.shape}\")\n",
        "print(f\"Validation labels shape: {Y_val.shape}\")"
      ]
    },
    {
      "cell_type": "markdown",
      "metadata": {
        "id": "egzxTzYNRfEV"
      },
      "source": [
        "## 2. Tiền xử lý dữ liệu\n",
        "\n",
        "### 2.1. Chuẩn hóa và reshape dữ liệu"
      ]
    },
    {
      "cell_type": "markdown",
      "metadata": {
        "id": "nkgFiPw8V1zF"
      },
      "source": [
        "```TODO 1:``` Viết hàm tiền xử lý dữ liệu"
      ]
    },
    {
      "cell_type": "code",
      "execution_count": null,
      "metadata": {
        "id": "H5wR-w7XUlji"
      },
      "outputs": [],
      "source": [
        "def preprocess_data(X_train, Y_train, X_val, Y_val, num_classes=10):\n",
        "    \"\"\"\n",
        "    Tiền xử lý dữ liệu MNIST cho Softmax Regression\n",
        "    Đầu vào:\n",
        "        X_train: numpy array, ảnh training (60000, 28, 28)\n",
        "        Y_train: numpy array, nhãn training (60000,)\n",
        "        X_val: numpy array, ảnh validation (10000, 28, 28)\n",
        "        Y_val: numpy array, nhãn validation (10000,)\n",
        "        num_classes: int, số lượng lớp (10)\n",
        "    Đầu ra:\n",
        "        Tuple: (X_train_processed, Y_train_processed, X_val_processed, Y_val_processed)\n",
        "    \"\"\"\n",
        "    # TODO: Lập trình tại đây\n",
        "    \n",
        "    # Bước 1: Reshape ảnh từ (batch_size, 28, 28) thành (batch_size, 784)\n",
        "    X_train_processed = tf.reshape(X_train, (X_train.shape[0], -1))\n",
        "    X_val_processed = tf.reshape(X_val, (X_val.shape[0], -1))\n",
        "\n",
        "    # Bước 2: Chuẩn hóa pixel values từ [0, 255] thành [0, 1]\n",
        "    X_train_processed = X_train_processed / 255.0\n",
        "    X_val_processed = X_val_processed / 255.0\n",
        "    \n",
        "    # Bước 3: Chuyển đổi nhãn thành categorical (one-hot encoding)\n",
        "    Y_train_processed = tf.one_hot(Y_train, num_classes)\n",
        "    Y_val_processed = tf.one_hot(Y_val, num_classes)\n",
        "\n",
        "    return X_train_processed, Y_train_processed, X_val_processed, Y_val_processed"
      ]
    },
    {
      "cell_type": "markdown",
      "metadata": {
        "id": "MoTyKp8ZrMCp"
      },
      "source": [
        "Test code"
      ]
    },
    {
      "cell_type": "code",
      "execution_count": 4,
      "metadata": {
        "id": "q5pUkhyUWLKz"
      },
      "outputs": [
        {
          "name": "stdout",
          "output_type": "stream",
          "text": [
            "Processed training data shape: (60000, 784)\n",
            "Processed training labels shape: (60000, 10)\n",
            "Processed validation data shape: (10000, 784)\n",
            "Processed validation labels shape: (10000, 10)\n",
            "Pixel value range: [0.000, 1.000]\n",
            "First label one-hot: [0. 0. 0. 0. 0. 1. 0. 0. 0. 0.]\n"
          ]
        }
      ],
      "source": [
        "# Test function\n",
        "try:\n",
        "    X_train_proc, Y_train_proc, X_val_proc, Y_val_proc = preprocess_data(X_train, Y_train, X_val, Y_val)\n",
        "    \n",
        "    print(f\"Processed training data shape: {X_train_proc.shape}\")\n",
        "    print(f\"Processed training labels shape: {Y_train_proc.shape}\")\n",
        "    print(f\"Processed validation data shape: {X_val_proc.shape}\")\n",
        "    print(f\"Processed validation labels shape: {Y_val_proc.shape}\")\n",
        "    print(f\"Pixel value range: [{X_train_proc.min():.3f}, {X_train_proc.max():.3f}]\")\n",
        "    print(f\"First label one-hot: {Y_train_proc[0]}\")\n",
        "except Exception as e:\n",
        "    print(\"Lỗi thực thi: \", e)"
      ]
    },
    {
      "cell_type": "markdown",
      "metadata": {
        "id": "ymhnNMN2c-mJ"
      },
      "source": [
        "**Kết quả mong đợi:**\n",
        "\n",
        "```\n",
        "Processed training data shape: (60000, 784)\n",
        "Processed training labels shape: (60000, 10)\n",
        "Processed validation data shape: (10000, 784)\n",
        "Processed validation labels shape: (10000, 10)\n",
        "Pixel value range: [0.000, 1.000]\n",
        "First label one-hot: [0. 0. 0. 0. 0. 1. 0. 0. 0. 0.]\n",
        "```"
      ]
    },
    {
      "cell_type": "markdown",
      "metadata": {
        "id": "C1moGHZqatpv"
      },
      "source": [
        "## 3. Xây dựng mô hình Softmax Regression với Keras\n",
        "\n",
        "### 3.1. Tạo mô hình Sequential"
      ]
    },
    {
      "cell_type": "markdown",
      "metadata": {
        "id": "AOViA-UBCoIE"
      },
      "source": [
        "```TODO 2:``` Xây dựng mô hình Softmax Regression"
      ]
    },
    {
      "cell_type": "code",
      "execution_count": 5,
      "metadata": {
        "id": "rhCfaD_ia6zh"
      },
      "outputs": [],
      "source": [
        "def create_softmax_model(input_dim=784, num_classes=10):\n",
        "    \"\"\"\n",
        "    Tạo mô hình Softmax Regression sử dụng Keras Sequential API\n",
        "    Đầu vào:\n",
        "        input_dim: int, số chiều đầu vào (784 cho MNIST)\n",
        "        num_classes: int, số lượng lớp (10 cho MNIST)\n",
        "    Đầu ra:\n",
        "        model: tf.keras.Model object\n",
        "    \"\"\"\n",
        "    # TODO: Lập trình tại đây\n",
        "    \n",
        "    # Tạo mô hình Sequential\n",
        "    model = tf.keras.Sequential()\n",
        "    \n",
        "    # Thêm Dense layer với activation='softmax'\n",
        "    model.add(tf.keras.layers.InputLayer(input_shape=(input_dim,)))\n",
        "    # Lưu ý: Không cần hidden layer, chỉ cần 1 Dense layer duy nhất\n",
        "    model.add(tf.keras.layers.Dense(num_classes, activation='softmax'))\n",
        "\n",
        "    return model"
      ]
    },
    {
      "cell_type": "markdown",
      "metadata": {
        "id": "QblYZMkCm6Nr"
      },
      "source": [
        "Test code"
      ]
    },
    {
      "cell_type": "code",
      "execution_count": 6,
      "metadata": {
        "id": "RwvKV1CZR6uC"
      },
      "outputs": [
        {
          "name": "stderr",
          "output_type": "stream",
          "text": [
            "d:\\Code\\ProtonX\\tf-foundation\\softmax-regression-tutorial\\softmax-regression-tensorflow\\.venv\\lib\\site-packages\\keras\\src\\layers\\core\\input_layer.py:27: UserWarning: Argument `input_shape` is deprecated. Use `shape` instead.\n",
            "  warnings.warn(\n"
          ]
        },
        {
          "data": {
            "text/html": [
              "<pre style=\"white-space:pre;overflow-x:auto;line-height:normal;font-family:Menlo,'DejaVu Sans Mono',consolas,'Courier New',monospace\"><span style=\"font-weight: bold\">Model: \"sequential\"</span>\n",
              "</pre>\n"
            ],
            "text/plain": [
              "\u001b[1mModel: \"sequential\"\u001b[0m\n"
            ]
          },
          "metadata": {},
          "output_type": "display_data"
        },
        {
          "data": {
            "text/html": [
              "<pre style=\"white-space:pre;overflow-x:auto;line-height:normal;font-family:Menlo,'DejaVu Sans Mono',consolas,'Courier New',monospace\">┏━━━━━━━━━━━━━━━━━━━━━━━━━━━━━━━━━┳━━━━━━━━━━━━━━━━━━━━━━━━┳━━━━━━━━━━━━━━━┓\n",
              "┃<span style=\"font-weight: bold\"> Layer (type)                    </span>┃<span style=\"font-weight: bold\"> Output Shape           </span>┃<span style=\"font-weight: bold\">       Param # </span>┃\n",
              "┡━━━━━━━━━━━━━━━━━━━━━━━━━━━━━━━━━╇━━━━━━━━━━━━━━━━━━━━━━━━╇━━━━━━━━━━━━━━━┩\n",
              "│ dense (<span style=\"color: #0087ff; text-decoration-color: #0087ff\">Dense</span>)                   │ (<span style=\"color: #00d7ff; text-decoration-color: #00d7ff\">None</span>, <span style=\"color: #00af00; text-decoration-color: #00af00\">10</span>)             │         <span style=\"color: #00af00; text-decoration-color: #00af00\">7,850</span> │\n",
              "└─────────────────────────────────┴────────────────────────┴───────────────┘\n",
              "</pre>\n"
            ],
            "text/plain": [
              "┏━━━━━━━━━━━━━━━━━━━━━━━━━━━━━━━━━┳━━━━━━━━━━━━━━━━━━━━━━━━┳━━━━━━━━━━━━━━━┓\n",
              "┃\u001b[1m \u001b[0m\u001b[1mLayer (type)                   \u001b[0m\u001b[1m \u001b[0m┃\u001b[1m \u001b[0m\u001b[1mOutput Shape          \u001b[0m\u001b[1m \u001b[0m┃\u001b[1m \u001b[0m\u001b[1m      Param #\u001b[0m\u001b[1m \u001b[0m┃\n",
              "┡━━━━━━━━━━━━━━━━━━━━━━━━━━━━━━━━━╇━━━━━━━━━━━━━━━━━━━━━━━━╇━━━━━━━━━━━━━━━┩\n",
              "│ dense (\u001b[38;5;33mDense\u001b[0m)                   │ (\u001b[38;5;45mNone\u001b[0m, \u001b[38;5;34m10\u001b[0m)             │         \u001b[38;5;34m7,850\u001b[0m │\n",
              "└─────────────────────────────────┴────────────────────────┴───────────────┘\n"
            ]
          },
          "metadata": {},
          "output_type": "display_data"
        },
        {
          "data": {
            "text/html": [
              "<pre style=\"white-space:pre;overflow-x:auto;line-height:normal;font-family:Menlo,'DejaVu Sans Mono',consolas,'Courier New',monospace\"><span style=\"font-weight: bold\"> Total params: </span><span style=\"color: #00af00; text-decoration-color: #00af00\">7,850</span> (30.66 KB)\n",
              "</pre>\n"
            ],
            "text/plain": [
              "\u001b[1m Total params: \u001b[0m\u001b[38;5;34m7,850\u001b[0m (30.66 KB)\n"
            ]
          },
          "metadata": {},
          "output_type": "display_data"
        },
        {
          "data": {
            "text/html": [
              "<pre style=\"white-space:pre;overflow-x:auto;line-height:normal;font-family:Menlo,'DejaVu Sans Mono',consolas,'Courier New',monospace\"><span style=\"font-weight: bold\"> Trainable params: </span><span style=\"color: #00af00; text-decoration-color: #00af00\">7,850</span> (30.66 KB)\n",
              "</pre>\n"
            ],
            "text/plain": [
              "\u001b[1m Trainable params: \u001b[0m\u001b[38;5;34m7,850\u001b[0m (30.66 KB)\n"
            ]
          },
          "metadata": {},
          "output_type": "display_data"
        },
        {
          "data": {
            "text/html": [
              "<pre style=\"white-space:pre;overflow-x:auto;line-height:normal;font-family:Menlo,'DejaVu Sans Mono',consolas,'Courier New',monospace\"><span style=\"font-weight: bold\"> Non-trainable params: </span><span style=\"color: #00af00; text-decoration-color: #00af00\">0</span> (0.00 B)\n",
              "</pre>\n"
            ],
            "text/plain": [
              "\u001b[1m Non-trainable params: \u001b[0m\u001b[38;5;34m0\u001b[0m (0.00 B)\n"
            ]
          },
          "metadata": {},
          "output_type": "display_data"
        },
        {
          "name": "stdout",
          "output_type": "stream",
          "text": [
            "Total parameters: 7850\n",
            "Expected parameters: 7850\n",
            "Correct number of parameters: True\n"
          ]
        }
      ],
      "source": [
        "# Tạo mô hình\n",
        "try:\n",
        "    model = create_softmax_model()\n",
        "    \n",
        "    # Hiển thị thông tin mô hình\n",
        "    model.summary()\n",
        "    \n",
        "    # Kiểm tra số tham số\n",
        "    total_params = model.count_params()\n",
        "    expected_params = 784 * 10 + 10  # weights + biases\n",
        "    print(f\"Total parameters: {total_params}\")\n",
        "    print(f\"Expected parameters: {expected_params}\")\n",
        "    print(f\"Correct number of parameters: {total_params == expected_params}\")\n",
        "except Exception as e:\n",
        "    print(\"Lỗi thực thi: \", e)"
      ]
    },
    {
      "cell_type": "markdown",
      "metadata": {
        "id": "pLPZP9UbpfeG"
      },
      "source": [
        "### 3.2. Compile mô hình"
      ]
    },
    {
      "cell_type": "markdown",
      "metadata": {
        "id": "QcMBhJKQCZbR"
      },
      "source": [
        "```TODO 3:``` Compile mô hình với optimizer, loss function và metrics phù hợp"
      ]
    },
    {
      "cell_type": "code",
      "execution_count": 10,
      "metadata": {
        "id": "9qyfElMkfpr7"
      },
      "outputs": [],
      "source": [
        "def compile_model(model, learning_rate=0.01):\n",
        "    \"\"\"\n",
        "    Compile mô hình với optimizer, loss function và metrics\n",
        "    Đầu vào:\n",
        "        model: tf.keras.Model object\n",
        "        learning_rate: float, tốc độ học\n",
        "    Đầu ra:\n",
        "        model: compiled model\n",
        "    \"\"\"\n",
        "    # TODO: Lập trình tại đây\n",
        "    \n",
        "    # Chọn optimizer (sử dụng SGD với learning rate được chỉ định)\n",
        "    optimizer = tf.keras.optimizers.SGD(learning_rate=learning_rate)\n",
        "    \n",
        "    # Chọn loss function (categorical crossentropy cho multi-class classification)\n",
        "    loss_function = tf.keras.losses.CategoricalCrossentropy()\n",
        "\n",
        "    # Chọn metrics (accuracy)\n",
        "    metrics = tf.keras.metrics.CategoricalAccuracy()\n",
        "    \n",
        "    # Compile model\n",
        "    model.compile(\n",
        "        optimizer=optimizer,\n",
        "        loss=loss_function,\n",
        "        metrics=[metrics]\n",
        "    )\n",
        "    \n",
        "    return model"
      ]
    },
    {
      "cell_type": "markdown",
      "metadata": {
        "id": "dwi9mjhhu2Gh"
      },
      "source": [
        "Test code"
      ]
    },
    {
      "cell_type": "code",
      "execution_count": 11,
      "metadata": {
        "id": "Sg2AO3vdqb32"
      },
      "outputs": [
        {
          "name": "stdout",
          "output_type": "stream",
          "text": [
            "Model compiled successfully!\n"
          ]
        }
      ],
      "source": [
        "# Compile mô hình\n",
        "try:\n",
        "    model = compile_model(model, learning_rate=0.01)\n",
        "    print(\"Model compiled successfully!\")\n",
        "except Exception as e:\n",
        "    print(\"Lỗi thực thi: \", e)"
      ]
    },
    {
      "cell_type": "markdown",
      "metadata": {
        "id": "wANOqHYluGpi"
      },
      "source": [
        "## 4. Training mô hình\n",
        "\n",
        "### 4.1. Thiết kế callback functions"
      ]
    },
    {
      "cell_type": "markdown",
      "metadata": {
        "id": "lT-ysBeRmeXk"
      },
      "source": [
        "```TODO 4:``` Tạo callback functions để theo dõi quá trình training"
      ]
    },
    {
      "cell_type": "code",
      "execution_count": 12,
      "metadata": {
        "id": "GUDj8wZ4aOYR"
      },
      "outputs": [],
      "source": [
        "def create_callbacks():\n",
        "    \"\"\"\n",
        "    Tạo callback functions cho training process\n",
        "    Đầu ra:\n",
        "        callbacks: list of callback functions\n",
        "    \"\"\"\n",
        "    # TODO: Lập trình tại đây\n",
        "    \n",
        "    callbacks = []\n",
        "    \n",
        "    # Early Stopping callback\n",
        "    early_stopping = tf.keras.callbacks.EarlyStopping(\n",
        "        monitor='val_loss',\n",
        "        patience=5,\n",
        "        restore_best_weights=True\n",
        "    )\n",
        "    \n",
        "    # Learning Rate Reduction callback\n",
        "    lr_reduction = tf.keras.callbacks.ReduceLROnPlateau(\n",
        "        monitor='val_loss',\n",
        "        factor=0.1,\n",
        "        patience=3,\n",
        "        min_lr=1e-6\n",
        "    )\n",
        "\n",
        "    callbacks.append(early_stopping)\n",
        "    callbacks.append(lr_reduction)\n",
        "    \n",
        "    return callbacks"
      ]
    },
    {
      "cell_type": "markdown",
      "metadata": {
        "id": "Q7AbN9qiqLvt"
      },
      "source": [
        "Test code"
      ]
    },
    {
      "cell_type": "code",
      "execution_count": 13,
      "metadata": {
        "id": "d8F7KKiaqMoo"
      },
      "outputs": [
        {
          "name": "stdout",
          "output_type": "stream",
          "text": [
            "Created 2 callbacks\n",
            "Callback 1: EarlyStopping\n",
            "Callback 2: ReduceLROnPlateau\n"
          ]
        }
      ],
      "source": [
        "try:\n",
        "    callbacks = create_callbacks()\n",
        "    print(f\"Created {len(callbacks)} callbacks\")\n",
        "    for i, callback in enumerate(callbacks):\n",
        "        print(f\"Callback {i+1}: {type(callback).__name__}\")\n",
        "except Exception as e:\n",
        "    print(\"Lỗi thực thi: \", e)"
      ]
    },
    {
      "cell_type": "markdown",
      "metadata": {
        "id": "6C2XgSCNsbuA"
      },
      "source": [
        "### 4.2. Training mô hình"
      ]
    },
    {
      "cell_type": "markdown",
      "metadata": {
        "id": "JEgdlxSziF64"
      },
      "source": [
        "```TODO 5:``` Huấn luyện mô hình"
      ]
    },
    {
      "cell_type": "code",
      "execution_count": 14,
      "metadata": {
        "id": "EKFL48BhZnUu"
      },
      "outputs": [],
      "source": [
        "def train_model(model, X_train, Y_train, X_val, Y_val, epochs=50, batch_size=128, callbacks=None):\n",
        "    \"\"\"\n",
        "    Huấn luyện mô hình Softmax Regression\n",
        "    Đầu vào:\n",
        "        model: tf.keras.Model object\n",
        "        X_train, Y_train: training data và labels\n",
        "        X_val, Y_val: validation data và labels  \n",
        "        epochs: int, số epochs\n",
        "        batch_size: int, kích thước batch\n",
        "        callbacks: list of callbacks\n",
        "    Đầu ra:\n",
        "        history: training history object\n",
        "    \"\"\"\n",
        "    # TODO: Lập trình tại đây\n",
        "    \n",
        "    history = tf.keras.models.Model.fit(\n",
        "        model,\n",
        "        X_train, Y_train,\n",
        "        validation_data=(X_val, Y_val),\n",
        "        epochs=epochs,\n",
        "        batch_size=batch_size,\n",
        "        callbacks=callbacks\n",
        "    )\n",
        "    \n",
        "    return history"
      ]
    },
    {
      "cell_type": "markdown",
      "metadata": {
        "id": "406NCFrvt8Lt"
      },
      "source": [
        "Test code"
      ]
    },
    {
      "cell_type": "code",
      "execution_count": 15,
      "metadata": {
        "id": "pRMGqqDStmtz"
      },
      "outputs": [
        {
          "name": "stdout",
          "output_type": "stream",
          "text": [
            "Epoch 1/30\n",
            "\u001b[1m469/469\u001b[0m \u001b[32m━━━━━━━━━━━━━━━━━━━━\u001b[0m\u001b[37m\u001b[0m \u001b[1m2s\u001b[0m 3ms/step - categorical_accuracy: 0.6852 - loss: 1.3031 - val_categorical_accuracy: 0.8241 - val_loss: 0.8217 - learning_rate: 0.0100\n",
            "Epoch 2/30\n",
            "\u001b[1m469/469\u001b[0m \u001b[32m━━━━━━━━━━━━━━━━━━━━\u001b[0m\u001b[37m\u001b[0m \u001b[1m1s\u001b[0m 2ms/step - categorical_accuracy: 0.8353 - loss: 0.7251 - val_categorical_accuracy: 0.8580 - val_loss: 0.6134 - learning_rate: 0.0100\n",
            "Epoch 3/30\n",
            "\u001b[1m469/469\u001b[0m \u001b[32m━━━━━━━━━━━━━━━━━━━━\u001b[0m\u001b[37m\u001b[0m \u001b[1m1s\u001b[0m 2ms/step - categorical_accuracy: 0.8567 - loss: 0.5935 - val_categorical_accuracy: 0.8704 - val_loss: 0.5301 - learning_rate: 0.0100\n",
            "Epoch 4/30\n",
            "\u001b[1m469/469\u001b[0m \u001b[32m━━━━━━━━━━━━━━━━━━━━\u001b[0m\u001b[37m\u001b[0m \u001b[1m1s\u001b[0m 1ms/step - categorical_accuracy: 0.8669 - loss: 0.5304 - val_categorical_accuracy: 0.8781 - val_loss: 0.4835 - learning_rate: 0.0100\n",
            "Epoch 5/30\n",
            "\u001b[1m469/469\u001b[0m \u001b[32m━━━━━━━━━━━━━━━━━━━━\u001b[0m\u001b[37m\u001b[0m \u001b[1m1s\u001b[0m 1ms/step - categorical_accuracy: 0.8734 - loss: 0.4920 - val_categorical_accuracy: 0.8849 - val_loss: 0.4532 - learning_rate: 0.0100\n",
            "Epoch 6/30\n",
            "\u001b[1m469/469\u001b[0m \u001b[32m━━━━━━━━━━━━━━━━━━━━\u001b[0m\u001b[37m\u001b[0m \u001b[1m1s\u001b[0m 2ms/step - categorical_accuracy: 0.8786 - loss: 0.4656 - val_categorical_accuracy: 0.8873 - val_loss: 0.4315 - learning_rate: 0.0100\n",
            "Epoch 7/30\n",
            "\u001b[1m469/469\u001b[0m \u001b[32m━━━━━━━━━━━━━━━━━━━━\u001b[0m\u001b[37m\u001b[0m \u001b[1m1s\u001b[0m 1ms/step - categorical_accuracy: 0.8823 - loss: 0.4460 - val_categorical_accuracy: 0.8903 - val_loss: 0.4151 - learning_rate: 0.0100\n",
            "Epoch 8/30\n",
            "\u001b[1m469/469\u001b[0m \u001b[32m━━━━━━━━━━━━━━━━━━━━\u001b[0m\u001b[37m\u001b[0m \u001b[1m1s\u001b[0m 2ms/step - categorical_accuracy: 0.8854 - loss: 0.4308 - val_categorical_accuracy: 0.8925 - val_loss: 0.4021 - learning_rate: 0.0100\n",
            "Epoch 9/30\n",
            "\u001b[1m469/469\u001b[0m \u001b[32m━━━━━━━━━━━━━━━━━━━━\u001b[0m\u001b[37m\u001b[0m \u001b[1m1s\u001b[0m 1ms/step - categorical_accuracy: 0.8878 - loss: 0.4185 - val_categorical_accuracy: 0.8951 - val_loss: 0.3915 - learning_rate: 0.0100\n",
            "Epoch 10/30\n",
            "\u001b[1m469/469\u001b[0m \u001b[32m━━━━━━━━━━━━━━━━━━━━\u001b[0m\u001b[37m\u001b[0m \u001b[1m1s\u001b[0m 1ms/step - categorical_accuracy: 0.8900 - loss: 0.4083 - val_categorical_accuracy: 0.8970 - val_loss: 0.3827 - learning_rate: 0.0100\n",
            "Epoch 11/30\n",
            "\u001b[1m469/469\u001b[0m \u001b[32m━━━━━━━━━━━━━━━━━━━━\u001b[0m\u001b[37m\u001b[0m \u001b[1m1s\u001b[0m 2ms/step - categorical_accuracy: 0.8918 - loss: 0.3997 - val_categorical_accuracy: 0.8988 - val_loss: 0.3752 - learning_rate: 0.0100\n",
            "Epoch 12/30\n",
            "\u001b[1m469/469\u001b[0m \u001b[32m━━━━━━━━━━━━━━━━━━━━\u001b[0m\u001b[37m\u001b[0m \u001b[1m1s\u001b[0m 1ms/step - categorical_accuracy: 0.8936 - loss: 0.3922 - val_categorical_accuracy: 0.9006 - val_loss: 0.3687 - learning_rate: 0.0100\n",
            "Epoch 13/30\n",
            "\u001b[1m469/469\u001b[0m \u001b[32m━━━━━━━━━━━━━━━━━━━━\u001b[0m\u001b[37m\u001b[0m \u001b[1m1s\u001b[0m 1ms/step - categorical_accuracy: 0.8949 - loss: 0.3857 - val_categorical_accuracy: 0.9017 - val_loss: 0.3631 - learning_rate: 0.0100\n",
            "Epoch 14/30\n",
            "\u001b[1m469/469\u001b[0m \u001b[32m━━━━━━━━━━━━━━━━━━━━\u001b[0m\u001b[37m\u001b[0m \u001b[1m1s\u001b[0m 1ms/step - categorical_accuracy: 0.8962 - loss: 0.3800 - val_categorical_accuracy: 0.9032 - val_loss: 0.3581 - learning_rate: 0.0100\n",
            "Epoch 15/30\n",
            "\u001b[1m469/469\u001b[0m \u001b[32m━━━━━━━━━━━━━━━━━━━━\u001b[0m\u001b[37m\u001b[0m \u001b[1m1s\u001b[0m 2ms/step - categorical_accuracy: 0.8974 - loss: 0.3749 - val_categorical_accuracy: 0.9045 - val_loss: 0.3536 - learning_rate: 0.0100\n",
            "Epoch 16/30\n",
            "\u001b[1m469/469\u001b[0m \u001b[32m━━━━━━━━━━━━━━━━━━━━\u001b[0m\u001b[37m\u001b[0m \u001b[1m1s\u001b[0m 2ms/step - categorical_accuracy: 0.8984 - loss: 0.3703 - val_categorical_accuracy: 0.9053 - val_loss: 0.3496 - learning_rate: 0.0100\n",
            "Epoch 17/30\n",
            "\u001b[1m469/469\u001b[0m \u001b[32m━━━━━━━━━━━━━━━━━━━━\u001b[0m\u001b[37m\u001b[0m \u001b[1m1s\u001b[0m 3ms/step - categorical_accuracy: 0.8994 - loss: 0.3661 - val_categorical_accuracy: 0.9065 - val_loss: 0.3460 - learning_rate: 0.0100\n",
            "Epoch 18/30\n",
            "\u001b[1m469/469\u001b[0m \u001b[32m━━━━━━━━━━━━━━━━━━━━\u001b[0m\u001b[37m\u001b[0m \u001b[1m1s\u001b[0m 2ms/step - categorical_accuracy: 0.9002 - loss: 0.3623 - val_categorical_accuracy: 0.9075 - val_loss: 0.3427 - learning_rate: 0.0100\n",
            "Epoch 19/30\n",
            "\u001b[1m469/469\u001b[0m \u001b[32m━━━━━━━━━━━━━━━━━━━━\u001b[0m\u001b[37m\u001b[0m \u001b[1m1s\u001b[0m 2ms/step - categorical_accuracy: 0.9009 - loss: 0.3588 - val_categorical_accuracy: 0.9083 - val_loss: 0.3397 - learning_rate: 0.0100\n",
            "Epoch 20/30\n",
            "\u001b[1m469/469\u001b[0m \u001b[32m━━━━━━━━━━━━━━━━━━━━\u001b[0m\u001b[37m\u001b[0m \u001b[1m1s\u001b[0m 2ms/step - categorical_accuracy: 0.9018 - loss: 0.3556 - val_categorical_accuracy: 0.9088 - val_loss: 0.3369 - learning_rate: 0.0100\n",
            "Epoch 21/30\n",
            "\u001b[1m469/469\u001b[0m \u001b[32m━━━━━━━━━━━━━━━━━━━━\u001b[0m\u001b[37m\u001b[0m \u001b[1m1s\u001b[0m 3ms/step - categorical_accuracy: 0.9025 - loss: 0.3526 - val_categorical_accuracy: 0.9091 - val_loss: 0.3343 - learning_rate: 0.0100\n",
            "Epoch 22/30\n",
            "\u001b[1m469/469\u001b[0m \u001b[32m━━━━━━━━━━━━━━━━━━━━\u001b[0m\u001b[37m\u001b[0m \u001b[1m2s\u001b[0m 4ms/step - categorical_accuracy: 0.9031 - loss: 0.3499 - val_categorical_accuracy: 0.9098 - val_loss: 0.3319 - learning_rate: 0.0100\n",
            "Epoch 23/30\n",
            "\u001b[1m469/469\u001b[0m \u001b[32m━━━━━━━━━━━━━━━━━━━━\u001b[0m\u001b[37m\u001b[0m \u001b[1m1s\u001b[0m 2ms/step - categorical_accuracy: 0.9035 - loss: 0.3473 - val_categorical_accuracy: 0.9108 - val_loss: 0.3297 - learning_rate: 0.0100\n",
            "Epoch 24/30\n",
            "\u001b[1m469/469\u001b[0m \u001b[32m━━━━━━━━━━━━━━━━━━━━\u001b[0m\u001b[37m\u001b[0m \u001b[1m1s\u001b[0m 3ms/step - categorical_accuracy: 0.9040 - loss: 0.3449 - val_categorical_accuracy: 0.9115 - val_loss: 0.3277 - learning_rate: 0.0100\n",
            "Epoch 25/30\n",
            "\u001b[1m469/469\u001b[0m \u001b[32m━━━━━━━━━━━━━━━━━━━━\u001b[0m\u001b[37m\u001b[0m \u001b[1m1s\u001b[0m 2ms/step - categorical_accuracy: 0.9045 - loss: 0.3426 - val_categorical_accuracy: 0.9117 - val_loss: 0.3257 - learning_rate: 0.0100\n",
            "Epoch 26/30\n",
            "\u001b[1m469/469\u001b[0m \u001b[32m━━━━━━━━━━━━━━━━━━━━\u001b[0m\u001b[37m\u001b[0m \u001b[1m1s\u001b[0m 2ms/step - categorical_accuracy: 0.9048 - loss: 0.3405 - val_categorical_accuracy: 0.9120 - val_loss: 0.3239 - learning_rate: 0.0100\n",
            "Epoch 27/30\n",
            "\u001b[1m469/469\u001b[0m \u001b[32m━━━━━━━━━━━━━━━━━━━━\u001b[0m\u001b[37m\u001b[0m \u001b[1m1s\u001b[0m 2ms/step - categorical_accuracy: 0.9054 - loss: 0.3385 - val_categorical_accuracy: 0.9124 - val_loss: 0.3222 - learning_rate: 0.0100\n",
            "Epoch 28/30\n",
            "\u001b[1m469/469\u001b[0m \u001b[32m━━━━━━━━━━━━━━━━━━━━\u001b[0m\u001b[37m\u001b[0m \u001b[1m1s\u001b[0m 2ms/step - categorical_accuracy: 0.9062 - loss: 0.3366 - val_categorical_accuracy: 0.9130 - val_loss: 0.3206 - learning_rate: 0.0100\n",
            "Epoch 29/30\n",
            "\u001b[1m469/469\u001b[0m \u001b[32m━━━━━━━━━━━━━━━━━━━━\u001b[0m\u001b[37m\u001b[0m \u001b[1m1s\u001b[0m 2ms/step - categorical_accuracy: 0.9068 - loss: 0.3348 - val_categorical_accuracy: 0.9131 - val_loss: 0.3191 - learning_rate: 0.0100\n",
            "Epoch 30/30\n",
            "\u001b[1m469/469\u001b[0m \u001b[32m━━━━━━━━━━━━━━━━━━━━\u001b[0m\u001b[37m\u001b[0m \u001b[1m1s\u001b[0m 2ms/step - categorical_accuracy: 0.9072 - loss: 0.3331 - val_categorical_accuracy: 0.9134 - val_loss: 0.3177 - learning_rate: 0.0100\n",
            "Training completed!\n"
          ]
        }
      ],
      "source": [
        "# Train mô hình\n",
        "try:\n",
        "    history = train_model(\n",
        "        model, \n",
        "        X_train_proc, Y_train_proc, \n",
        "        X_val_proc, Y_val_proc, \n",
        "        epochs=30, \n",
        "        batch_size=128,\n",
        "        callbacks=callbacks\n",
        "    )\n",
        "    print(\"Training completed!\")\n",
        "except Exception as e:\n",
        "    print(\"Lỗi thực thi: \", e)"
      ]
    },
    {
      "cell_type": "markdown",
      "metadata": {
        "id": "wANOqHYluGpi2"
      },
      "source": [
        "## 5. Đánh giá mô hình\n",
        "\n",
        "### 5.1. Vẽ đồ thị training history"
      ]
    },
    {
      "cell_type": "markdown",
      "metadata": {
        "id": "lT-ysBeRmeXk2"
      },
      "source": [
        "```TODO 6:``` Tạo hàm vẽ đồ thị loss và accuracy"
      ]
    },
    {
      "cell_type": "code",
      "execution_count": 19,
      "metadata": {
        "id": "GUDj8wZ4aOYR2"
      },
      "outputs": [],
      "source": [
        "def plot_training_history(history):\n",
        "    \"\"\"\n",
        "    Vẽ đồ thị training history (loss và accuracy)\n",
        "    Đầu vào:\n",
        "        history: training history object\n",
        "    \"\"\"\n",
        "    # TODO: Lập trình tại đây\n",
        "    \n",
        "    # Tạo subplot với 2 đồ thị\n",
        "    fig, (ax1, ax2) = plt.subplots(1, 2, figsize=(12, 4))\n",
        "    \n",
        "    # Đồ thị Loss\n",
        "    # Plot training & validation loss\n",
        "    ax1.plot(history.history['loss'], label='Training Loss')\n",
        "    ax1.plot(history.history['val_loss'], label='Validation Loss')\n",
        "    ax1.set_title('Model Loss')\n",
        "    ax1.set_xlabel('Epoch')\n",
        "    ax1.set_ylabel('Loss')\n",
        "    ax1.legend()\n",
        "    ax1.grid(True)      \n",
        "    \n",
        "    # Đồ thị Accuracy  \n",
        "    # Plot training & validation accuracy\n",
        "    ax2.plot(history.history['categorical_accuracy'], label='Training Accuracy')\n",
        "    ax2.plot(history.history['val_categorical_accuracy'], label='Validation Accuracy')\n",
        "    ax2.set_title('Model Accuracy')\n",
        "    ax2.set_xlabel('Epoch')\n",
        "    ax2.set_ylabel('Accuracy')\n",
        "    ax2.legend()\n",
        "    ax2.grid(True)\n",
        "\n",
        "    plt.tight_layout()\n",
        "    plt.show()"
      ]
    },
    {
      "cell_type": "markdown",
      "metadata": {
        "id": "Q7AbN9qiqLvt2"
      },
      "source": [
        "Test code"
      ]
    },
    {
      "cell_type": "code",
      "execution_count": 20,
      "metadata": {
        "id": "d8F7KKiaqMoo2"
      },
      "outputs": [
        {
          "data": {
            "image/png": "[encoded data removed]",
            "text/plain": [
              "<Figure size 1200x400 with 2 Axes>"
            ]
          },
          "metadata": {},
          "output_type": "display_data"
        }
      ],
      "source": [
        "# Vẽ đồ thị\n",
        "try:\n",
        "    plot_training_history(history)\n",
        "except Exception as e:\n",
        "    print(\"Lỗi thực thi: \", e)"
      ]
    },
    {
      "cell_type": "markdown",
      "metadata": {
        "id": "evaluation_section"
      },
      "source": [
        "### 5.2. Tính toán metrics chi tiết"
      ]
    },
    {
      "cell_type": "markdown",
      "metadata": {
        "id": "evaluation_todo"
      },
      "source": [
        "```TODO 7:``` Tính toán và hiển thị metrics chi tiết"
      ]
    },
    {
      "cell_type": "code",
      "execution_count": 21,
      "metadata": {
        "id": "evaluation_code"
      },
      "outputs": [],
      "source": [
        "def evaluate_model(model, X_test, Y_test_categorical, Y_test_original):\n",
        "    \"\"\"\n",
        "    Đánh giá mô hình và hiển thị metrics chi tiết\n",
        "    Đầu vào:\n",
        "        model: trained model\n",
        "        X_test: test data\n",
        "        Y_test_categorical: test labels (one-hot)\n",
        "        Y_test_original: test labels (original format)\n",
        "    \"\"\"\n",
        "    # TODO: Lập trình tại đây\n",
        "    \n",
        "    # Dự đoán trên test set\n",
        "    predictions = tf.keras.models.Model.predict(model, X_test)\n",
        "    predicted_classes = tf.argmax(predictions, axis=1).numpy()\n",
        "    \n",
        "    # Tính accuracy\n",
        "    test_accuracy = tf.reduce_mean(tf.cast(tf.equal(predicted_classes, Y_test_original), tf.float32)).numpy()\n",
        "    print(f\"Test Accuracy: {test_accuracy:.4f}\")\n",
        "    \n",
        "    # Classification report\n",
        "    print(\"Classification Report:\")\n",
        "    print(tf.keras.metrics.CategoricalAccuracy()(Y_test_categorical, predictions))\n",
        "    print(classification_report(Y_test_original, predicted_classes, digits=4))\n",
        "    # Confusion Matrix\n",
        "    print(\"\\nConfusion Matrix:\")\n",
        "    cm = tf.math.confusion_matrix(Y_test_original, predicted_classes).numpy()\n",
        "    print(cm)\n",
        "    \n",
        "    # Vẽ confusion matrix\n",
        "    plt.figure(figsize=(10, 8))\n",
        "    sns.heatmap(cm, annot=True, fmt='d', cmap='Blues')\n",
        "    plt.title('Confusion Matrix')\n",
        "    plt.xlabel('Predicted Label')\n",
        "    plt.ylabel('True Label')\n",
        "    plt.show()\n",
        "    \n",
        "    return test_accuracy, predictions"
      ]
    },
    {
      "cell_type": "markdown",
      "metadata": {
        "id": "evaluation_test"
      },
      "source": [
        "Test code"
      ]
    },
    {
      "cell_type": "code",
      "execution_count": 22,
      "metadata": {
        "id": "evaluation_test_code"
      },
      "outputs": [
        {
          "name": "stdout",
          "output_type": "stream",
          "text": [
            "\u001b[1m313/313\u001b[0m \u001b[32m━━━━━━━━━━━━━━━━━━━━\u001b[0m\u001b[37m\u001b[0m \u001b[1m0s\u001b[0m 750us/step\n",
            "Test Accuracy: 0.9134\n",
            "Classification Report:\n",
            "tf.Tensor(0.9134, shape=(), dtype=float32)\n",
            "              precision    recall  f1-score   support\n",
            "\n",
            "           0     0.9357    0.9796    0.9571       980\n",
            "           1     0.9574    0.9709    0.9641      1135\n",
            "           2     0.9214    0.8750    0.8976      1032\n",
            "           3     0.8974    0.9010    0.8992      1010\n",
            "           4     0.9036    0.9257    0.9145       982\n",
            "           5     0.9096    0.8464    0.8769       892\n",
            "           6     0.9292    0.9457    0.9374       958\n",
            "           7     0.9201    0.9076    0.9138      1028\n",
            "           8     0.8638    0.8789    0.8712       974\n",
            "           9     0.8885    0.8920    0.8902      1009\n",
            "\n",
            "    accuracy                         0.9134     10000\n",
            "   macro avg     0.9127    0.9123    0.9122     10000\n",
            "weighted avg     0.9134    0.9134    0.9131     10000\n",
            "\n",
            "\n",
            "Confusion Matrix:\n",
            "[[ 960    0    2    2    1    2    9    1    3    0]\n",
            " [   0 1102    2    4    1    2    4    2   18    0]\n",
            " [  11    8  903   16   13    1   13   18   41    8]\n",
            " [   4    0   21  910    1   28    3   13   19   11]\n",
            " [   1    4    5    1  909    1   10    3    9   39]\n",
            " [  12    3    4   36   11  755   17   11   34    9]\n",
            " [  13    3    5    2   12   12  906    1    4    0]\n",
            " [   3   14   25    8    8    0    0  933    2   35]\n",
            " [  10    9    8   23   10   20   13   14  856   11]\n",
            " [  12    8    5   12   40    9    0   18    5  900]]\n"
          ]
        },
        {
          "data": {
            "image/png": "[encoded data removed]",
            "text/plain": [
              "<Figure size 1000x800 with 2 Axes>"
            ]
          },
          "metadata": {},
          "output_type": "display_data"
        },
        {
          "name": "stdout",
          "output_type": "stream",
          "text": [
            "\n",
            "Final Test Accuracy: 0.9134\n"
          ]
        }
      ],
      "source": [
        "# Đánh giá mô hình\n",
        "try:\n",
        "    test_acc, predictions = evaluate_model(model, X_val_proc, Y_val_proc, Y_val)\n",
        "    print(f\"\\nFinal Test Accuracy: {test_acc:.4f}\")\n",
        "except Exception as e:\n",
        "    print(\"Lỗi thực thi: \", e)"
      ]
    },
    {
      "cell_type": "markdown",
      "metadata": {
        "id": "visualization_section"
      },
      "source": [
        "### 5.3. Visualize predictions"
      ]
    },
    {
      "cell_type": "markdown",
      "metadata": {
        "id": "visualization_todo"
      },
      "source": [
        "```TODO 8:``` Tạo hàm hiển thị một số predictions"
      ]
    },
    {
      "cell_type": "code",
      "execution_count": 25,
      "metadata": {
        "id": "visualization_code"
      },
      "outputs": [],
      "source": [
        "def visualize_predictions(X_test, Y_test, predictions, num_samples=10):\n",
        "    \"\"\"\n",
        "    Hiển thị một số ảnh với predictions\n",
        "    Đầu vào:\n",
        "        X_test: test images (flattened)\n",
        "        Y_test: true labels\n",
        "        predictions: model predictions\n",
        "        num_samples: số lượng mẫu hiển thị\n",
        "    \"\"\"\n",
        "    # TODO: Lập trình tại đây\n",
        "    \n",
        "    # Reshape lại ảnh từ (784,) thành (28, 28)\n",
        "    X_images = tf.reshape(X_test, (-1, 28, 28)).numpy()\n",
        "    \n",
        "    # Random chọn indices\n",
        "    indices = np.random.choice(X_images.shape[0], num_samples, replace=False)\n",
        "\n",
        "    # Tạo subplot\n",
        "    fig, axes = plt.subplots(2, 5, figsize=(12, 6))\n",
        "    axes = axes.ravel()\n",
        "    \n",
        "    \n",
        "    for i, idx in enumerate(indices):\n",
        "        # Hiển thị ảnh\n",
        "        \n",
        "        # Lấy true label và predicted label\n",
        "        true_label = Y_test[idx]\n",
        "        pred_label = tf.argmax(predictions[idx]).numpy()\n",
        "        confidence = tf.reduce_max(predictions[idx]).numpy()\n",
        "        \n",
        "        # Set title và color\n",
        "        color = 'green' if true_label == pred_label else 'red'\n",
        "        \n",
        "        axes[i].imshow(X_images[idx], cmap='gray')\n",
        "        axes[i].set_title(f\"True: {true_label}\\nPred: {pred_label} ({confidence:.2f})\", color=color)\n",
        "        axes[i].axis('off')\n",
        "    plt.tight_layout()\n",
        "    plt.show()"
      ]
    },
    {
      "cell_type": "markdown",
      "metadata": {
        "id": "visualization_test"
      },
      "source": [
        "Test code"
      ]
    },
    {
      "cell_type": "code",
      "execution_count": 26,
      "metadata": {
        "id": "visualization_test_code"
      },
      "outputs": [
        {
          "data": {
            "image/png": "[encoded data removed]",
            "text/plain": [
              "<Figure size 1200x600 with 10 Axes>"
            ]
          },
          "metadata": {},
          "output_type": "display_data"
        }
      ],
      "source": [
        "# Hiển thị predictions\n",
        "try:\n",
        "    visualize_predictions(X_val_proc, Y_val, predictions, num_samples=10)\n",
        "except Exception as e:\n",
        "    print(\"Lỗi thực thi: \", e)"
      ]
    },
    {
      "cell_type": "markdown",
      "metadata": {
        "id": "end_cell"
      },
      "source": [
        "## Kết thúc bài tập\n",
        "\n",
        "Chúc mừng bạn đã hoàn thành bài tập về Softmax Regression với TensorFlow Keras! Hãy chắc chắn rằng bạn đã hoàn thành tất cả các phần và kiểm tra kỹ lưỡng kết quả của mình trước khi nộp bài."
      ]
    }
  ],
  "metadata": {
    "kernelspec": {
      "display_name": "tf-softmax-regression",
      "language": "python",
      "name": "python3"
    },
    "language_info": {
      "codemirror_mode": {
        "name": "ipython",
        "version": 3
      },
      "file_extension": ".py",
      "mimetype": "text/x-python",
      "name": "python",
      "nbconvert_exporter": "python",
      "pygments_lexer": "ipython3",
      "version": "3.10.18"
    },
    "toc": {
      "base_numbering": 1,
      "nav_menu": {},
      "number_sections": true,
      "sideBar": true,
      "skip_h1_title": false,
      "title_cell": "Table of Contents",
      "title_sidebar": "Contents",
      "toc_cell": false,
      "toc_position": {},
      "toc_section_display": true,
      "toc_window_display": false
    }
  },
  "nbformat": 4,
  "nbformat_minor": 5
}
